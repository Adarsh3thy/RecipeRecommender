{
 "cells": [
  {
   "cell_type": "markdown",
   "metadata": {},
   "source": [
    "<h1> ALS Recommendation model using pyspark </h1>\n",
    "<br/>\n",
    "ALS attempts to estimate the ratings matrix R as the product of two lower-rank matrices, X and Y, i.e. X * Yt = R. Typically these approximations are called ‘factor’ matrices. The general approach is iterative. During each iteration, one of the factor matrices is held constant, while the other is solved for using least squares. The newly-solved factor matrix is then held constant while solving for the other factor matrix. <br/>\n",
    "<h3>1. Import Dataset and libraries</h3>"
   ]
  },
  {
   "cell_type": "code",
   "execution_count": 0,
   "metadata": {
    "application/vnd.databricks.v1+cell": {
     "cellMetadata": {},
     "inputWidgets": {},
     "nuid": "88fc8bff-c9de-4a9f-a6d1-be36afb012e8",
     "showTitle": false,
     "title": ""
    }
   },
   "outputs": [
    {
     "data": {
      "text/plain": [
       "+-------+---------+-------------------+------+-----+------+\n",
       "|user_id|recipe_id|               date|rating|    u|     i|\n",
       "+-------+---------+-------------------+------+-----+------+\n",
       "|   2046|     4684|2000-02-25 00:00:00|   5.0|22095| 44367|\n",
       "|   2046|      517|2000-02-25 00:00:00|   5.0|22095| 87844|\n",
       "|   1773|     7435|2000-03-13 00:00:00|   5.0|24732|138181|\n",
       "|   1773|      278|2000-03-13 00:00:00|   4.0|24732| 93054|\n",
       "|   2046|     3431|2000-04-07 00:00:00|   5.0|22095|101723|\n",
       "|   2046|    13307|2000-05-21 00:00:00|   5.0|22095|134551|\n",
       "|   2312|      780|2000-09-12 00:00:00|   5.0| 1674|127175|\n",
       "|   2312|    51964|2000-09-26 00:00:00|   5.0| 1674|151793|\n",
       "|   2312|     1232|2000-10-17 00:00:00|   4.0| 1674| 15498|\n",
       "|   2312|     4397|2000-10-17 00:00:00|   5.0| 1674| 14380|\n",
       "|   2625|      471|2000-10-18 00:00:00|   3.0|20667| 35144|\n",
       "|   2312|      164|2000-10-20 00:00:00|   5.0| 1674| 96573|\n",
       "|   2999|     3567|2000-10-23 00:00:00|   5.0|19047|118466|\n",
       "|   2178|     3704|2000-10-30 00:00:00|   3.0| 6065|  3172|\n",
       "|   2178|     4366|2000-11-04 00:00:00|   5.0| 6065| 50924|\n",
       "|   3794|     7508|2000-12-11 00:00:00|   4.0|12353| 10114|\n",
       "|   3794|      191|2000-12-15 00:00:00|   5.0|12353| 37830|\n",
       "|   3794|     3525|2000-12-15 00:00:00|   5.0|12353| 63320|\n",
       "|   2312|     3651|2001-01-16 00:00:00|   5.0| 1674|107132|\n",
       "|   2695|      350|2001-01-19 00:00:00|   1.0| 9204| 13543|\n",
       "+-------+---------+-------------------+------+-----+------+\n",
       "only showing top 20 rows\n",
       "\n"
      ]
     },
     "metadata": {
      "application/vnd.databricks.v1+output": {
       "addedWidgets": {},
       "arguments": {},
       "data": "+-------+---------+-------------------+------+-----+------+\n|user_id|recipe_id|               date|rating|    u|     i|\n+-------+---------+-------------------+------+-----+------+\n|   2046|     4684|2000-02-25 00:00:00|   5.0|22095| 44367|\n|   2046|      517|2000-02-25 00:00:00|   5.0|22095| 87844|\n|   1773|     7435|2000-03-13 00:00:00|   5.0|24732|138181|\n|   1773|      278|2000-03-13 00:00:00|   4.0|24732| 93054|\n|   2046|     3431|2000-04-07 00:00:00|   5.0|22095|101723|\n|   2046|    13307|2000-05-21 00:00:00|   5.0|22095|134551|\n|   2312|      780|2000-09-12 00:00:00|   5.0| 1674|127175|\n|   2312|    51964|2000-09-26 00:00:00|   5.0| 1674|151793|\n|   2312|     1232|2000-10-17 00:00:00|   4.0| 1674| 15498|\n|   2312|     4397|2000-10-17 00:00:00|   5.0| 1674| 14380|\n|   2625|      471|2000-10-18 00:00:00|   3.0|20667| 35144|\n|   2312|      164|2000-10-20 00:00:00|   5.0| 1674| 96573|\n|   2999|     3567|2000-10-23 00:00:00|   5.0|19047|118466|\n|   2178|     3704|2000-10-30 00:00:00|   3.0| 6065|  3172|\n|   2178|     4366|2000-11-04 00:00:00|   5.0| 6065| 50924|\n|   3794|     7508|2000-12-11 00:00:00|   4.0|12353| 10114|\n|   3794|      191|2000-12-15 00:00:00|   5.0|12353| 37830|\n|   3794|     3525|2000-12-15 00:00:00|   5.0|12353| 63320|\n|   2312|     3651|2001-01-16 00:00:00|   5.0| 1674|107132|\n|   2695|      350|2001-01-19 00:00:00|   1.0| 9204| 13543|\n+-------+---------+-------------------+------+-----+------+\nonly showing top 20 rows\n\n",
       "datasetInfos": [],
       "metadata": {},
       "removedWidgets": [],
       "type": "ansi"
      }
     },
     "output_type": "display_data"
    }
   ],
   "source": [
    "# File location and type\n",
    "file_location = \"/FileStore/tables/interactions_train.csv\"\n",
    "file_type = \"csv\"\n",
    "\n",
    "# The applied options are for CSV files. For other file types, these will be ignored.\n",
    "df =spark.read.csv(file_location,header=True,inferSchema=True)\n",
    "df.show()"
   ]
  },
  {
   "cell_type": "code",
   "execution_count": 0,
   "metadata": {
    "application/vnd.databricks.v1+cell": {
     "cellMetadata": {},
     "inputWidgets": {},
     "nuid": "7132cccb-0686-4fba-aeff-5aa1c1bf0561",
     "showTitle": false,
     "title": ""
    }
   },
   "outputs": [
    {
     "data": {
      "text/plain": [
       "+-------+---------+------+\n",
       "|user_id|recipe_id|rating|\n",
       "+-------+---------+------+\n",
       "|   2046|     4684|   5.0|\n",
       "|   2046|      517|   5.0|\n",
       "|   1773|     7435|   5.0|\n",
       "|   1773|      278|   4.0|\n",
       "|   2046|     3431|   5.0|\n",
       "|   2046|    13307|   5.0|\n",
       "|   2312|      780|   5.0|\n",
       "|   2312|    51964|   5.0|\n",
       "|   2312|     1232|   4.0|\n",
       "|   2312|     4397|   5.0|\n",
       "|   2625|      471|   3.0|\n",
       "|   2312|      164|   5.0|\n",
       "|   2999|     3567|   5.0|\n",
       "|   2178|     3704|   3.0|\n",
       "|   2178|     4366|   5.0|\n",
       "|   3794|     7508|   4.0|\n",
       "|   3794|      191|   5.0|\n",
       "|   3794|     3525|   5.0|\n",
       "|   2312|     3651|   5.0|\n",
       "|   2695|      350|   1.0|\n",
       "+-------+---------+------+\n",
       "only showing top 20 rows\n",
       "\n"
      ]
     },
     "metadata": {
      "application/vnd.databricks.v1+output": {
       "addedWidgets": {},
       "arguments": {},
       "data": "+-------+---------+------+\n|user_id|recipe_id|rating|\n+-------+---------+------+\n|   2046|     4684|   5.0|\n|   2046|      517|   5.0|\n|   1773|     7435|   5.0|\n|   1773|      278|   4.0|\n|   2046|     3431|   5.0|\n|   2046|    13307|   5.0|\n|   2312|      780|   5.0|\n|   2312|    51964|   5.0|\n|   2312|     1232|   4.0|\n|   2312|     4397|   5.0|\n|   2625|      471|   3.0|\n|   2312|      164|   5.0|\n|   2999|     3567|   5.0|\n|   2178|     3704|   3.0|\n|   2178|     4366|   5.0|\n|   3794|     7508|   4.0|\n|   3794|      191|   5.0|\n|   3794|     3525|   5.0|\n|   2312|     3651|   5.0|\n|   2695|      350|   1.0|\n+-------+---------+------+\nonly showing top 20 rows\n\n",
       "datasetInfos": [],
       "metadata": {},
       "removedWidgets": [],
       "type": "ansi"
      }
     },
     "output_type": "display_data"
    }
   ],
   "source": [
    "df=df.drop('date','u','i')\n",
    "df.show()"
   ]
  },
  {
   "cell_type": "code",
   "execution_count": 0,
   "metadata": {
    "application/vnd.databricks.v1+cell": {
     "cellMetadata": {},
     "inputWidgets": {},
     "nuid": "0010f559-5391-48d6-bf17-440206369c06",
     "showTitle": false,
     "title": ""
    }
   },
   "outputs": [],
   "source": [
    "from pyspark.sql.types import *\n",
    "from pyspark.mllib.recommendation import ALS, MatrixFactorizationModel, Rating\n",
    "import requests, json, os, sys, time, re\n",
    "from sklearn.metrics.pairwise import linear_kernel,cosine_similarity\n",
    "import pandas as pd\n",
    "import math\n",
    "import datetime\n",
    "import pyspark.sql.functions as sf\n",
    "from pyspark.sql.functions import desc\n",
    "from pyspark.sql.window import Window\n",
    "from pyspark import SparkConf, SparkContext\n",
    "import itertools\n",
    "from math import sqrt\n",
    "from operator import add\n",
    "from os.path import join, isfile, dirname\n",
    "from pyspark import SparkContext, SparkConf, SQLContext\n",
    "from pyspark.mllib.recommendation import ALS, MatrixFactorizationModel, Rating\n",
    "from pyspark.sql.types import TimestampType\n",
    "import hashlib\n"
   ]
  },
  {
   "cell_type": "code",
   "execution_count": 0,
   "metadata": {
    "application/vnd.databricks.v1+cell": {
     "cellMetadata": {},
     "inputWidgets": {},
     "nuid": "9c402706-4c1b-4109-a15a-d4526ef107e9",
     "showTitle": false,
     "title": ""
    }
   },
   "outputs": [
    {
     "data": {
      "text/plain": [
       "+-------+---------+------+\n",
       "|user_id|recipe_id|rating|\n",
       "+-------+---------+------+\n",
       "|   2046|     4684|     5|\n",
       "|   2046|      517|     5|\n",
       "|   1773|     7435|     5|\n",
       "|   1773|      278|     4|\n",
       "|   2046|     3431|     5|\n",
       "|   2046|    13307|     5|\n",
       "|   2312|      780|     5|\n",
       "|   2312|    51964|     5|\n",
       "|   2312|     1232|     4|\n",
       "|   2312|     4397|     5|\n",
       "|   2625|      471|     3|\n",
       "|   2312|      164|     5|\n",
       "|   2999|     3567|     5|\n",
       "|   2178|     3704|     3|\n",
       "|   2178|     4366|     5|\n",
       "|   3794|     7508|     4|\n",
       "|   3794|      191|     5|\n",
       "|   3794|     3525|     5|\n",
       "|   2312|     3651|     5|\n",
       "|   2695|      350|     1|\n",
       "+-------+---------+------+\n",
       "only showing top 20 rows\n",
       "\n"
      ]
     },
     "metadata": {
      "application/vnd.databricks.v1+output": {
       "addedWidgets": {},
       "arguments": {},
       "data": "+-------+---------+------+\n|user_id|recipe_id|rating|\n+-------+---------+------+\n|   2046|     4684|     5|\n|   2046|      517|     5|\n|   1773|     7435|     5|\n|   1773|      278|     4|\n|   2046|     3431|     5|\n|   2046|    13307|     5|\n|   2312|      780|     5|\n|   2312|    51964|     5|\n|   2312|     1232|     4|\n|   2312|     4397|     5|\n|   2625|      471|     3|\n|   2312|      164|     5|\n|   2999|     3567|     5|\n|   2178|     3704|     3|\n|   2178|     4366|     5|\n|   3794|     7508|     4|\n|   3794|      191|     5|\n|   3794|     3525|     5|\n|   2312|     3651|     5|\n|   2695|      350|     1|\n+-------+---------+------+\nonly showing top 20 rows\n\n",
       "datasetInfos": [],
       "metadata": {},
       "removedWidgets": [],
       "type": "ansi"
      }
     },
     "output_type": "display_data"
    }
   ],
   "source": [
    "df=df.withColumn(\"rating\",df.rating.cast('int'))\n",
    "df.show()"
   ]
  },
  {
   "cell_type": "code",
   "execution_count": 0,
   "metadata": {
    "application/vnd.databricks.v1+cell": {
     "cellMetadata": {},
     "inputWidgets": {},
     "nuid": "4f17298c-07d5-48fd-a71e-671cb8fd1276",
     "showTitle": false,
     "title": ""
    }
   },
   "outputs": [
    {
     "data": {
      "text/plain": [
       "+-------+---------+------+\n",
       "|user_id|recipe_id|rating|\n",
       "+-------+---------+------+\n",
       "|   2046|     4684|     5|\n",
       "|   2046|      517|     5|\n",
       "|   1773|     7435|     5|\n",
       "|   1773|      278|     4|\n",
       "|   2046|     3431|     5|\n",
       "|   2046|    13307|     5|\n",
       "|   2312|      780|     5|\n",
       "|   2312|    51964|     5|\n",
       "|   2312|     1232|     4|\n",
       "|   2312|     4397|     5|\n",
       "|   2625|      471|     3|\n",
       "|   2312|      164|     5|\n",
       "|   2999|     3567|     5|\n",
       "|   2178|     3704|     3|\n",
       "|   2178|     4366|     5|\n",
       "|   3794|     7508|     4|\n",
       "|   3794|      191|     5|\n",
       "|   3794|     3525|     5|\n",
       "|   2312|     3651|     5|\n",
       "|   2695|      350|     1|\n",
       "+-------+---------+------+\n",
       "only showing top 20 rows\n",
       "\n"
      ]
     },
     "metadata": {
      "application/vnd.databricks.v1+output": {
       "addedWidgets": {},
       "arguments": {},
       "data": "+-------+---------+------+\n|user_id|recipe_id|rating|\n+-------+---------+------+\n|   2046|     4684|     5|\n|   2046|      517|     5|\n|   1773|     7435|     5|\n|   1773|      278|     4|\n|   2046|     3431|     5|\n|   2046|    13307|     5|\n|   2312|      780|     5|\n|   2312|    51964|     5|\n|   2312|     1232|     4|\n|   2312|     4397|     5|\n|   2625|      471|     3|\n|   2312|      164|     5|\n|   2999|     3567|     5|\n|   2178|     3704|     3|\n|   2178|     4366|     5|\n|   3794|     7508|     4|\n|   3794|      191|     5|\n|   3794|     3525|     5|\n|   2312|     3651|     5|\n|   2695|      350|     1|\n+-------+---------+------+\nonly showing top 20 rows\n\n",
       "datasetInfos": [],
       "metadata": {},
       "removedWidgets": [],
       "type": "ansi"
      }
     },
     "output_type": "display_data"
    }
   ],
   "source": [
    "df=df.filter(~(df['rating']==0))\n",
    "df.show()"
   ]
  },
  {
   "cell_type": "code",
   "execution_count": 0,
   "metadata": {
    "application/vnd.databricks.v1+cell": {
     "cellMetadata": {},
     "inputWidgets": {},
     "nuid": "91e0b62b-9756-4433-9247-5a95f2246ebe",
     "showTitle": false,
     "title": ""
    }
   },
   "outputs": [
    {
     "data": {
      "text/plain": [
       "+------+------+\n",
       "|rating| count|\n",
       "+------+------+\n",
       "|     1|  3341|\n",
       "|     3| 25781|\n",
       "|     5|518568|\n",
       "|     4|127402|\n",
       "|     2|  6852|\n",
       "+------+------+\n",
       "\n",
       "+--------+------+\n",
       "|count(1)|rating|\n",
       "+--------+------+\n",
       "|    3341|     1|\n",
       "|    6852|     2|\n",
       "|   25781|     3|\n",
       "|  127402|     4|\n",
       "|  518568|     5|\n",
       "+--------+------+\n",
       "\n"
      ]
     },
     "metadata": {
      "application/vnd.databricks.v1+output": {
       "addedWidgets": {},
       "arguments": {},
       "data": "+------+------+\n|rating| count|\n+------+------+\n|     1|  3341|\n|     3| 25781|\n|     5|518568|\n|     4|127402|\n|     2|  6852|\n+------+------+\n\n+--------+------+\n|count(1)|rating|\n+--------+------+\n|    3341|     1|\n|    6852|     2|\n|   25781|     3|\n|  127402|     4|\n|  518568|     5|\n+--------+------+\n\n",
       "datasetInfos": [],
       "metadata": {},
       "removedWidgets": [],
       "type": "ansi"
      }
     },
     "output_type": "display_data"
    }
   ],
   "source": [
    "df.groupBy(\"rating\").count().show(100)\n",
    "df.registerTempTable(\"df\");\n",
    "spark.sql(\"select count(*) , rating from df group by rating order by rating\").show(100)"
   ]
  },
  {
   "cell_type": "code",
   "execution_count": 0,
   "metadata": {
    "application/vnd.databricks.v1+cell": {
     "cellMetadata": {},
     "inputWidgets": {},
     "nuid": "342aba21-b22e-4966-b582-f5ea472004e4",
     "showTitle": false,
     "title": ""
    }
   },
   "outputs": [],
   "source": [
    "rddTraining, rddValidating, rddTesting = df.randomSplit([6.0,2.0,2.0], seed=1001)"
   ]
  },
  {
   "cell_type": "code",
   "execution_count": 0,
   "metadata": {
    "application/vnd.databricks.v1+cell": {
     "cellMetadata": {},
     "inputWidgets": {},
     "nuid": "7f263ce2-786e-4d87-bdf6-c59278686f1a",
     "showTitle": false,
     "title": ""
    }
   },
   "outputs": [
    {
     "data": {
      "text/plain": [
       "Out[52]: [Row(user_id=2046, recipe_id=4684, rating=5),\n",
       " Row(user_id=2046, recipe_id=517, rating=5),\n",
       " Row(user_id=1773, recipe_id=7435, rating=5),\n",
       " Row(user_id=1773, recipe_id=278, rating=4),\n",
       " Row(user_id=2046, recipe_id=3431, rating=5),\n",
       " Row(user_id=2046, recipe_id=13307, rating=5),\n",
       " Row(user_id=2312, recipe_id=780, rating=5),\n",
       " Row(user_id=2312, recipe_id=51964, rating=5),\n",
       " Row(user_id=2312, recipe_id=1232, rating=4),\n",
       " Row(user_id=2312, recipe_id=4397, rating=5)]"
      ]
     },
     "metadata": {
      "application/vnd.databricks.v1+output": {
       "addedWidgets": {},
       "arguments": {},
       "data": "Out[52]: [Row(user_id=2046, recipe_id=4684, rating=5),\n Row(user_id=2046, recipe_id=517, rating=5),\n Row(user_id=1773, recipe_id=7435, rating=5),\n Row(user_id=1773, recipe_id=278, rating=4),\n Row(user_id=2046, recipe_id=3431, rating=5),\n Row(user_id=2046, recipe_id=13307, rating=5),\n Row(user_id=2312, recipe_id=780, rating=5),\n Row(user_id=2312, recipe_id=51964, rating=5),\n Row(user_id=2312, recipe_id=1232, rating=4),\n Row(user_id=2312, recipe_id=4397, rating=5)]",
       "datasetInfos": [],
       "metadata": {},
       "removedWidgets": [],
       "type": "ansi"
      }
     },
     "output_type": "display_data"
    }
   ],
   "source": [
    "df.take(10)"
   ]
  },
  {
   "cell_type": "code",
   "execution_count": 0,
   "metadata": {
    "application/vnd.databricks.v1+cell": {
     "cellMetadata": {},
     "inputWidgets": {},
     "nuid": "89ae07a3-ff55-4be0-90a1-8dbbe863107f",
     "showTitle": false,
     "title": ""
    }
   },
   "outputs": [],
   "source": [
    "\n",
    "\n",
    "# reference: https://github.com/Akxay/recommendation_engine/blob/master/Jobs_RE_spark.ipynb\n",
    "#Using function to compare the best possible parameters\n",
    "def howFarAreWe(model, against, sizeAgainst):\n",
    "    againstNoRatings = against.rdd.map(lambda x: (int(x[0]), int(x[1])) )\n",
    "    againstWiRatings = against.rdd.map(lambda x: ((int(x[0]),int(x[1])), int(x[2])) )\n",
    "    predictions = model.predictAll(againstNoRatings).map(lambda p: ( (p[0],p[1]), p[2]) )\n",
    "    predictionsAndRatings = predictions.join(againstWiRatings).values()    \n",
    "    return sqrt(predictionsAndRatings.map(lambda s: (s[0] - s[1]) ** 2).reduce(add) / float(sizeAgainst))"
   ]
  },
  {
   "cell_type": "markdown",
   "metadata": {},
   "source": [
    "<h3> 2. Finding the best parameters </h3>"
   ]
  },
  {
   "cell_type": "code",
   "execution_count": 0,
   "metadata": {
    "application/vnd.databricks.v1+cell": {
     "cellMetadata": {},
     "inputWidgets": {},
     "nuid": "ed076f63-cb13-49e9-88e9-fca40c0afd62",
     "showTitle": false,
     "title": ""
    }
   },
   "outputs": [
    {
     "data": {
      "text/plain": [
       "10 10 0.02\n",
       "Best so far:4.340819\n",
       "10 10 0.03\n",
       "Best so far:4.340572\n",
       "20 10 0.03\n",
       "Best so far:4.340524\n",
       "10 20 0.03\n",
       "Best so far:4.340310\n",
       "Rank 20\n",
       "Iter 10\n",
       "Dist 4.340310\n",
       "Alpha 0.030000\n"
      ]
     },
     "metadata": {
      "application/vnd.databricks.v1+output": {
       "addedWidgets": {},
       "arguments": {},
       "data": "10 10 0.02\nBest so far:4.340819\n10 10 0.03\nBest so far:4.340572\n20 10 0.03\nBest so far:4.340524\n10 20 0.03\nBest so far:4.340310\nRank 20\nIter 10\nDist 4.340310\nAlpha 0.030000\n",
       "datasetInfos": [],
       "metadata": {},
       "removedWidgets": [],
       "type": "ansi"
      }
     },
     "output_type": "display_data"
    }
   ],
   "source": [
    "#finding best set of parameters\n",
    "ranks  = [10,20]\n",
    "iters  = [10,20]\n",
    "alpha = [0.02,0.03]\n",
    "\n",
    "finalModel = None\n",
    "finalRank  = 0\n",
    "finalIter  = -1\n",
    "finalDist   = float(300)\n",
    "finalAlpha = float(0)\n",
    "\n",
    "#[START train_model]\n",
    "for cRank, cIter, cAlpha in itertools.product(ranks, iters, alpha):\n",
    "    model = ALS.trainImplicit(rddTraining, cRank, cIter, alpha=float(cAlpha))\n",
    "    dist = howFarAreWe(model, rddValidating, rddValidating.count())\n",
    "    if dist < finalDist:\n",
    "        print(cIter, cRank,cAlpha)\n",
    "        print(\"Best so far:%f\" % dist)\n",
    "        finalModel = model\n",
    "        finalRank  = cRank\n",
    "        finalIter  = cIter\n",
    "        finalDist  = dist\n",
    "        finalAlpha  = cAlpha \n",
    "#[END train_model]\n",
    "\n",
    "print(\"Rank %i\" % finalRank)  \n",
    "print(\"Iter %i\" % finalIter)  \n",
    "print(\"Dist %f\" % finalDist) \n",
    "print(\"Alpha %f\" % finalAlpha)"
   ]
  },
  {
   "cell_type": "markdown",
   "metadata": {},
   "source": [
    "<h3> Training the model </h3>"
   ]
  },
  {
   "cell_type": "code",
   "execution_count": 0,
   "metadata": {
    "application/vnd.databricks.v1+cell": {
     "cellMetadata": {},
     "inputWidgets": {},
     "nuid": "62d88d72-fba4-4d89-ad38-13966b8ef4b1",
     "showTitle": false,
     "title": ""
    }
   },
   "outputs": [],
   "source": [
    "\n",
    "\n",
    "rank = 20   \n",
    "# The size of the feature vector used; the minimum value is 10, the minimum value of the feature vector, \n",
    "#the better the model produced, but it also costs more calculation cost\n",
    "numIterations = 10\n",
    "#Iteration numbers\n",
    "alpha=0.03\n",
    "#model = ALS.trainImplicit(rddTraining, 10, 10,alpha=0.01) #18.99407447555247\n",
    "#model = ALS.trainImplicit(rddTraining, 10, 10,alpha=0.5) #18.88809845032351\n",
    "#model = ALS.train(rddTraining, 10, 10) #29.13044908080498\n",
    "model = ALS.trainImplicit(rddTraining, rank, numIterations, alpha) #18.96886550953952\n",
    "\n",
    "\n"
   ]
  },
  {
   "cell_type": "markdown",
   "metadata": {},
   "source": [
    "<h3> Model Evaluation </h3>"
   ]
  },
  {
   "cell_type": "code",
   "execution_count": 0,
   "metadata": {
    "application/vnd.databricks.v1+cell": {
     "cellMetadata": {},
     "inputWidgets": {},
     "nuid": "8f267f79-5409-4f7e-90eb-4e563fc50200",
     "showTitle": false,
     "title": ""
    }
   },
   "outputs": [
    {
     "data": {
      "text/plain": [
       "Out[56]: [((503238, 408472), 7.603174417487346e-05),\n",
       " ((37449, 296296), 0.000269961991145495),\n",
       " ((27643, 15392), 0.00017068636375966264)]"
      ]
     },
     "metadata": {
      "application/vnd.databricks.v1+output": {
       "addedWidgets": {},
       "arguments": {},
       "data": "Out[56]: [((503238, 408472), 7.603174417487346e-05),\n ((37449, 296296), 0.000269961991145495),\n ((27643, 15392), 0.00017068636375966264)]",
       "datasetInfos": [],
       "metadata": {},
       "removedWidgets": [],
       "type": "ansi"
      }
     },
     "output_type": "display_data"
    }
   ],
   "source": [
    "\n",
    "rddTesting_withoutrating = rddTesting.rdd. map(lambda r: ((r[0], r[1])))\n",
    "predictions = model.predictAll(rddTesting_withoutrating).map(lambda r: ((r[0], r[1]), (r[2])))\n",
    "predictions.take(3)"
   ]
  },
  {
   "cell_type": "code",
   "execution_count": 0,
   "metadata": {
    "application/vnd.databricks.v1+cell": {
     "cellMetadata": {},
     "inputWidgets": {},
     "nuid": "5f6fe399-4829-4355-ac01-ba879c4aa6d3",
     "showTitle": false,
     "title": ""
    }
   },
   "outputs": [],
   "source": [
    "rates_and_preds = rddTesting.rdd.map(lambda r: ((int(r[0]), int(r[1])), float(r[2]))).join(predictions) "
   ]
  },
  {
   "cell_type": "code",
   "execution_count": 0,
   "metadata": {
    "application/vnd.databricks.v1+cell": {
     "cellMetadata": {},
     "inputWidgets": {},
     "nuid": "aa21ef9c-6753-42e1-9847-4d6c8282c9df",
     "showTitle": false,
     "title": ""
    }
   },
   "outputs": [
    {
     "data": {
      "text/plain": [
       "For testing data the RMSE is 4.738276611676369\n"
      ]
     },
     "metadata": {
      "application/vnd.databricks.v1+output": {
       "addedWidgets": {},
       "arguments": {},
       "data": "For testing data the RMSE is 4.738276611676369\n",
       "datasetInfos": [],
       "metadata": {},
       "removedWidgets": [],
       "type": "ansi"
      }
     },
     "output_type": "display_data"
    }
   ],
   "source": [
    "\n",
    "\n",
    "error = math.sqrt(rates_and_preds.map(lambda r: (r[1][0] - r[1][1])**2).mean()) \n",
    "print ('For testing data the RMSE is %s' % (error))\n",
    "\n"
   ]
  },
  {
   "cell_type": "code",
   "execution_count": 0,
   "metadata": {
    "application/vnd.databricks.v1+cell": {
     "cellMetadata": {},
     "inputWidgets": {},
     "nuid": "6cbe754c-3a98-494c-8d8f-2284ac874391",
     "showTitle": false,
     "title": ""
    }
   },
   "outputs": [],
   "source": []
  }
 ],
 "metadata": {
  "application/vnd.databricks.v1+notebook": {
   "dashboards": [],
   "language": "python",
   "notebookMetadata": {
    "pythonIndentUnit": 4
   },
   "notebookName": "PySpark MF",
   "notebookOrigID": 1271640148544415,
   "widgets": {}
  },
  "kernelspec": {
   "display_name": "Python 3",
   "language": "python",
   "name": "python3"
  },
  "language_info": {
   "codemirror_mode": {
    "name": "ipython",
    "version": 3
   },
   "file_extension": ".py",
   "mimetype": "text/x-python",
   "name": "python",
   "nbconvert_exporter": "python",
   "pygments_lexer": "ipython3",
   "version": "3.7.3"
  }
 },
 "nbformat": 4,
 "nbformat_minor": 1
}
