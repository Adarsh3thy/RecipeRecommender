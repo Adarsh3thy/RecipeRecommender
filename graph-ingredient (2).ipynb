{
 "cells": [
  {
   "cell_type": "code",
   "execution_count": 1,
   "metadata": {
    "execution": {
     "iopub.execute_input": "2022-11-22T05:40:48.890694Z",
     "iopub.status.busy": "2022-11-22T05:40:48.890304Z",
     "iopub.status.idle": "2022-11-22T05:41:49.737784Z",
     "shell.execute_reply": "2022-11-22T05:41:49.736604Z",
     "shell.execute_reply.started": "2022-11-22T05:40:48.890662Z"
    }
   },
   "outputs": [
    {
     "name": "stderr",
     "output_type": "stream",
     "text": [
      "2022-11-30 15:28:33.177473: I tensorflow/stream_executor/platform/default/dso_loader.cc:49] Successfully opened dynamic library libcudart.so.11.0\n"
     ]
    }
   ],
   "source": [
    "import pandas as pd\n",
    "import os \n",
    "import ast\n",
    "import sentence_transformers  #### This is the package which we will use for encoding recipes using pretrained embedding\n",
    "import matplotlib.pyplot as plt \n",
    "import networkx as nx #### Network x will be used to create graph based algorithms\n",
    "import pickle ### We will use pickleto save files for later access\n",
    "from sentence_transformers import SentenceTransformer\n",
    "from sklearn.metrics.pairwise import cosine_similarity ### Cosine Similary\n",
    "from scipy import sparse ### Sparse Matrix\n",
    "model = SentenceTransformer('/home/014295437') ### We will use this senetnce encodings"
   ]
  },
  {
   "cell_type": "code",
   "execution_count": 2,
   "metadata": {
    "execution": {
     "iopub.execute_input": "2022-11-22T05:42:12.223159Z",
     "iopub.status.busy": "2022-11-22T05:42:12.221838Z",
     "iopub.status.idle": "2022-11-22T05:42:22.021162Z",
     "shell.execute_reply": "2022-11-22T05:42:22.020007Z",
     "shell.execute_reply.started": "2022-11-22T05:42:12.223111Z"
    }
   },
   "outputs": [
    {
     "name": "stdout",
     "output_type": "stream",
     "text": [
      "Lets look at the basic stats about the data\n",
      "The shape of the data is\n",
      "(1132367, 5)\n",
      " The columns in the data are as follows\n",
      "Index(['user_id', 'recipe_id', 'date', 'rating', 'review'], dtype='object')\n",
      " The first few columns are \n",
      "   user_id  recipe_id        date  rating  \\\n",
      "0    38094      40893  2003-02-17       4   \n",
      "1  1293707      40893  2011-12-21       5   \n",
      "2     8937      44394  2002-12-01       4   \n",
      "3   126440      85009  2010-02-27       5   \n",
      "4    57222      85009  2011-10-01       5   \n",
      "\n",
      "                                              review  \n",
      "0  Great with a salad. Cooked on top of stove for...  \n",
      "1  So simple, so delicious! Great for chilly fall...  \n",
      "2  This worked very well and is EASY.  I used not...  \n",
      "3  I made the Mexican topping and took it to bunk...  \n",
      "4  Made the cheddar bacon topping, adding a sprin...  \n"
     ]
    }
   ],
   "source": [
    "interactions = pd.read_csv('RAW_interactions.csv')\n",
    "\n",
    "print (\"Lets look at the basic stats about the data\")\n",
    "print (\"The shape of the data is\")\n",
    "print (interactions.shape)\n",
    "print (\" The columns in the data are as follows\")\n",
    "print (interactions.columns)\n",
    "print (\" The first few columns are \")\n",
    "print (interactions.head(5))"
   ]
  },
  {
   "cell_type": "code",
   "execution_count": 3,
   "metadata": {
    "execution": {
     "iopub.execute_input": "2022-11-22T05:42:44.219978Z",
     "iopub.status.busy": "2022-11-22T05:42:44.219614Z",
     "iopub.status.idle": "2022-11-22T05:42:44.237062Z",
     "shell.execute_reply": "2022-11-22T05:42:44.236107Z",
     "shell.execute_reply.started": "2022-11-22T05:42:44.219946Z"
    }
   },
   "outputs": [
    {
     "data": {
      "text/plain": [
       "5    816364\n",
       "4    187360\n",
       "0     60847\n",
       "3     40855\n",
       "2     14123\n",
       "1     12818\n",
       "Name: rating, dtype: int64"
      ]
     },
     "execution_count": 3,
     "metadata": {},
     "output_type": "execute_result"
    }
   ],
   "source": [
    "interactions['rating'].value_counts()"
   ]
  },
  {
   "cell_type": "code",
   "execution_count": 4,
   "metadata": {
    "execution": {
     "iopub.execute_input": "2022-11-22T05:42:47.964840Z",
     "iopub.status.busy": "2022-11-22T05:42:47.964435Z",
     "iopub.status.idle": "2022-11-22T05:42:48.552237Z",
     "shell.execute_reply": "2022-11-22T05:42:48.550994Z",
     "shell.execute_reply.started": "2022-11-22T05:42:47.964805Z"
    }
   },
   "outputs": [
    {
     "data": {
      "image/png": "[encoded data removed]",
      "text/plain": [
       "<Figure size 432x288 with 1 Axes>"
      ]
     },
     "metadata": {
      "needs_background": "light"
     },
     "output_type": "display_data"
    }
   ],
   "source": [
    "### Interestingly most of the recipes are rated at highest rating. \n",
    "interactions.groupby('recipe_id')['rating'].mean().reset_index().rating.plot(kind ='hist',title='Histograms of Avg Rating Recipe')\n",
    "plt.xlabel(\"Average Ratings\")\n",
    "plt.ylabel(\"Number of recipes\")\n",
    "plt.show()"
   ]
  },
  {
   "cell_type": "code",
   "execution_count": 5,
   "metadata": {
    "execution": {
     "iopub.execute_input": "2022-11-22T05:42:51.657352Z",
     "iopub.status.busy": "2022-11-22T05:42:51.656809Z",
     "iopub.status.idle": "2022-11-22T05:42:52.162140Z",
     "shell.execute_reply": "2022-11-22T05:42:52.161186Z",
     "shell.execute_reply.started": "2022-11-22T05:42:51.657316Z"
    }
   },
   "outputs": [],
   "source": [
    "### We will restrict our analysis only to those recipes which has been reviewed by more than 2 people\n",
    "### Analysis have shown that most recipes are only added but never seen\n",
    "### Print for the poc purposes we will restrict\n",
    "g = {'rating' : ['mean'],'user_id' : ['nunique']}\n",
    "int_summary = interactions.groupby(['recipe_id']).agg(g).reset_index()\n",
    "### Its gives a muti index output convert it to single index by cobining bothe level\n",
    "ind = pd.Index([e[0] + \"_\" +e[1] for e in int_summary.columns.tolist()])\n",
    "### Assign the column names \n",
    "int_summary.columns = ind\n",
    "int_summary.columns = ['recipe_id', 'rating_mean', 'user_id_nunique']\n",
    "### We will keep only those recipes in considerstaion which have been reviewed by more than 2 people\n",
    "int_summary_94k = int_summary[ (int_summary['user_id_nunique'] > 2)]"
   ]
  },
  {
   "cell_type": "code",
   "execution_count": 6,
   "metadata": {
    "execution": {
     "iopub.execute_input": "2022-11-22T05:42:55.635263Z",
     "iopub.status.busy": "2022-11-22T05:42:55.634833Z",
     "iopub.status.idle": "2022-11-22T05:43:02.605088Z",
     "shell.execute_reply": "2022-11-22T05:43:02.604114Z",
     "shell.execute_reply.started": "2022-11-22T05:42:55.635226Z"
    }
   },
   "outputs": [
    {
     "name": "stdout",
     "output_type": "stream",
     "text": [
      "Index(['name', 'id', 'minutes', 'contributor_id', 'submitted', 'tags',\n",
      "       'nutrition', 'n_steps', 'steps', 'description', 'ingredients',\n",
      "       'n_ingredients'],\n",
      "      dtype='object')\n"
     ]
    }
   ],
   "source": [
    "recipes = pd.read_csv('RAW_recipes.csv')\n",
    "print (recipes.columns)"
   ]
  },
  {
   "cell_type": "code",
   "execution_count": 7,
   "metadata": {
    "execution": {
     "iopub.execute_input": "2022-11-22T05:43:09.071227Z",
     "iopub.status.busy": "2022-11-22T05:43:09.070842Z",
     "iopub.status.idle": "2022-11-22T05:43:09.212909Z",
     "shell.execute_reply": "2022-11-22T05:43:09.211869Z",
     "shell.execute_reply.started": "2022-11-22T05:43:09.071194Z"
    }
   },
   "outputs": [],
   "source": [
    "filter_recipe = pd.merge(recipes,int_summary_94k,right_on = ['recipe_id'],left_on = ['id'],how = 'inner')"
   ]
  },
  {
   "cell_type": "code",
   "execution_count": 8,
   "metadata": {
    "execution": {
     "iopub.execute_input": "2022-11-22T05:43:15.879715Z",
     "iopub.status.busy": "2022-11-22T05:43:15.879360Z",
     "iopub.status.idle": "2022-11-22T05:43:15.900296Z",
     "shell.execute_reply": "2022-11-22T05:43:15.899173Z",
     "shell.execute_reply.started": "2022-11-22T05:43:15.879685Z"
    }
   },
   "outputs": [
    {
     "data": {
      "text/html": [
       "<div>\n",
       "<style scoped>\n",
       "    .dataframe tbody tr th:only-of-type {\n",
       "        vertical-align: middle;\n",
       "    }\n",
       "\n",
       "    .dataframe tbody tr th {\n",
       "        vertical-align: top;\n",
       "    }\n",
       "\n",
       "    .dataframe thead th {\n",
       "        text-align: right;\n",
       "    }\n",
       "</style>\n",
       "<table border=\"1\" class=\"dataframe\">\n",
       "  <thead>\n",
       "    <tr style=\"text-align: right;\">\n",
       "      <th></th>\n",
       "      <th>name</th>\n",
       "      <th>id</th>\n",
       "      <th>minutes</th>\n",
       "      <th>contributor_id</th>\n",
       "      <th>submitted</th>\n",
       "      <th>tags</th>\n",
       "      <th>nutrition</th>\n",
       "      <th>n_steps</th>\n",
       "      <th>steps</th>\n",
       "      <th>description</th>\n",
       "      <th>ingredients</th>\n",
       "      <th>n_ingredients</th>\n",
       "      <th>recipe_id</th>\n",
       "      <th>rating_mean</th>\n",
       "      <th>user_id_nunique</th>\n",
       "    </tr>\n",
       "  </thead>\n",
       "  <tbody>\n",
       "    <tr>\n",
       "      <th>0</th>\n",
       "      <td>arriba   baked winter squash mexican style</td>\n",
       "      <td>137739</td>\n",
       "      <td>55</td>\n",
       "      <td>47892</td>\n",
       "      <td>2005-09-16</td>\n",
       "      <td>['60-minutes-or-less', 'time-to-make', 'course...</td>\n",
       "      <td>[51.5, 0.0, 13.0, 0.0, 2.0, 0.0, 4.0]</td>\n",
       "      <td>11</td>\n",
       "      <td>['make a choice and proceed with recipe', 'dep...</td>\n",
       "      <td>autumn is my favorite time of year to cook! th...</td>\n",
       "      <td>['winter squash', 'mexican seasoning', 'mixed ...</td>\n",
       "      <td>7</td>\n",
       "      <td>137739</td>\n",
       "      <td>5.000000</td>\n",
       "      <td>3</td>\n",
       "    </tr>\n",
       "    <tr>\n",
       "      <th>1</th>\n",
       "      <td>a bit different  breakfast pizza</td>\n",
       "      <td>31490</td>\n",
       "      <td>30</td>\n",
       "      <td>26278</td>\n",
       "      <td>2002-06-17</td>\n",
       "      <td>['30-minutes-or-less', 'time-to-make', 'course...</td>\n",
       "      <td>[173.4, 18.0, 0.0, 17.0, 22.0, 35.0, 1.0]</td>\n",
       "      <td>9</td>\n",
       "      <td>['preheat oven to 425 degrees f', 'press dough...</td>\n",
       "      <td>this recipe calls for the crust to be prebaked...</td>\n",
       "      <td>['prepared pizza crust', 'sausage patty', 'egg...</td>\n",
       "      <td>6</td>\n",
       "      <td>31490</td>\n",
       "      <td>3.500000</td>\n",
       "      <td>4</td>\n",
       "    </tr>\n",
       "    <tr>\n",
       "      <th>2</th>\n",
       "      <td>beat this  banana bread</td>\n",
       "      <td>75452</td>\n",
       "      <td>70</td>\n",
       "      <td>15892</td>\n",
       "      <td>2003-11-04</td>\n",
       "      <td>['weeknight', 'time-to-make', 'course', 'main-...</td>\n",
       "      <td>[2669.3, 160.0, 976.0, 107.0, 62.0, 310.0, 138.0]</td>\n",
       "      <td>12</td>\n",
       "      <td>['preheat oven to 350 degrees', 'butter two 9x...</td>\n",
       "      <td>from ann hodgman's</td>\n",
       "      <td>['sugar', 'unsalted butter', 'bananas', 'eggs'...</td>\n",
       "      <td>9</td>\n",
       "      <td>75452</td>\n",
       "      <td>4.400000</td>\n",
       "      <td>5</td>\n",
       "    </tr>\n",
       "    <tr>\n",
       "      <th>3</th>\n",
       "      <td>better than sex  strawberries</td>\n",
       "      <td>42198</td>\n",
       "      <td>1460</td>\n",
       "      <td>41531</td>\n",
       "      <td>2002-10-03</td>\n",
       "      <td>['weeknight', 'time-to-make', 'course', 'main-...</td>\n",
       "      <td>[734.1, 66.0, 199.0, 10.0, 10.0, 117.0, 28.0]</td>\n",
       "      <td>8</td>\n",
       "      <td>['crush vanilla wafers into fine crumbs and li...</td>\n",
       "      <td>simple but sexy. this was in my local newspape...</td>\n",
       "      <td>['vanilla wafers', 'butter', 'powdered sugar',...</td>\n",
       "      <td>7</td>\n",
       "      <td>42198</td>\n",
       "      <td>3.800000</td>\n",
       "      <td>5</td>\n",
       "    </tr>\n",
       "    <tr>\n",
       "      <th>4</th>\n",
       "      <td>better then bush s  baked beans</td>\n",
       "      <td>67547</td>\n",
       "      <td>2970</td>\n",
       "      <td>85627</td>\n",
       "      <td>2003-07-26</td>\n",
       "      <td>['weeknight', 'time-to-make', 'course', 'main-...</td>\n",
       "      <td>[462.4, 28.0, 214.0, 69.0, 14.0, 29.0, 23.0]</td>\n",
       "      <td>9</td>\n",
       "      <td>['in a very large sauce pan cover the beans an...</td>\n",
       "      <td>i'd have to say that this is a labor of love d...</td>\n",
       "      <td>['great northern bean', 'chicken bouillon cube...</td>\n",
       "      <td>13</td>\n",
       "      <td>67547</td>\n",
       "      <td>3.900000</td>\n",
       "      <td>10</td>\n",
       "    </tr>\n",
       "    <tr>\n",
       "      <th>5</th>\n",
       "      <td>chicken lickin  good  pork chops</td>\n",
       "      <td>63986</td>\n",
       "      <td>500</td>\n",
       "      <td>14664</td>\n",
       "      <td>2003-06-06</td>\n",
       "      <td>['weeknight', 'time-to-make', 'course', 'main-...</td>\n",
       "      <td>[105.7, 8.0, 0.0, 26.0, 5.0, 4.0, 3.0]</td>\n",
       "      <td>5</td>\n",
       "      <td>['dredge pork chops in mixture of flour , salt...</td>\n",
       "      <td>here's and old standby i enjoy from time to ti...</td>\n",
       "      <td>['lean pork chops', 'flour', 'salt', 'dry must...</td>\n",
       "      <td>7</td>\n",
       "      <td>63986</td>\n",
       "      <td>4.368421</td>\n",
       "      <td>19</td>\n",
       "    </tr>\n",
       "    <tr>\n",
       "      <th>6</th>\n",
       "      <td>chile rellenos</td>\n",
       "      <td>43026</td>\n",
       "      <td>45</td>\n",
       "      <td>52268</td>\n",
       "      <td>2002-10-14</td>\n",
       "      <td>['60-minutes-or-less', 'time-to-make', 'course...</td>\n",
       "      <td>[94.0, 10.0, 0.0, 11.0, 11.0, 21.0, 0.0]</td>\n",
       "      <td>9</td>\n",
       "      <td>['drain green chiles', 'sprinkle cornstarch on...</td>\n",
       "      <td>a favorite from a local restaurant no longer i...</td>\n",
       "      <td>['egg roll wrap', 'whole green chilies', 'chee...</td>\n",
       "      <td>5</td>\n",
       "      <td>43026</td>\n",
       "      <td>4.045455</td>\n",
       "      <td>22</td>\n",
       "    </tr>\n",
       "    <tr>\n",
       "      <th>7</th>\n",
       "      <td>chinese  candy</td>\n",
       "      <td>23933</td>\n",
       "      <td>15</td>\n",
       "      <td>35268</td>\n",
       "      <td>2002-03-29</td>\n",
       "      <td>['15-minutes-or-less', 'time-to-make', 'course...</td>\n",
       "      <td>[232.7, 21.0, 77.0, 4.0, 6.0, 38.0, 8.0]</td>\n",
       "      <td>4</td>\n",
       "      <td>['melt butterscotch chips in heavy saucepan ov...</td>\n",
       "      <td>a little different, and oh so good. i include ...</td>\n",
       "      <td>['butterscotch chips', 'chinese noodles', 'sal...</td>\n",
       "      <td>3</td>\n",
       "      <td>23933</td>\n",
       "      <td>4.833333</td>\n",
       "      <td>12</td>\n",
       "    </tr>\n",
       "    <tr>\n",
       "      <th>8</th>\n",
       "      <td>chinese  chop suey</td>\n",
       "      <td>8559</td>\n",
       "      <td>70</td>\n",
       "      <td>4481</td>\n",
       "      <td>2001-01-27</td>\n",
       "      <td>['weeknight', 'time-to-make', 'course', 'main-...</td>\n",
       "      <td>[395.4, 31.0, 20.0, 29.0, 51.0, 33.0, 8.0]</td>\n",
       "      <td>8</td>\n",
       "      <td>['brown ground meat and onion in a large pot',...</td>\n",
       "      <td>easy one-pot dinner.</td>\n",
       "      <td>['celery', 'onion', 'ground pork', 'soy sauce'...</td>\n",
       "      <td>7</td>\n",
       "      <td>8559</td>\n",
       "      <td>2.000000</td>\n",
       "      <td>4</td>\n",
       "    </tr>\n",
       "    <tr>\n",
       "      <th>9</th>\n",
       "      <td>cream  of spinach soup</td>\n",
       "      <td>76808</td>\n",
       "      <td>45</td>\n",
       "      <td>95743</td>\n",
       "      <td>2003-11-17</td>\n",
       "      <td>['60-minutes-or-less', 'time-to-make', 'course...</td>\n",
       "      <td>[126.0, 11.0, 2.0, 14.0, 5.0, 23.0, 4.0]</td>\n",
       "      <td>9</td>\n",
       "      <td>['bring water and salt to a boil', 'cut the po...</td>\n",
       "      <td>wonderful comfort food from rozanne gold, a fa...</td>\n",
       "      <td>['water', 'salt', 'boiling potatoes', 'fresh s...</td>\n",
       "      <td>8</td>\n",
       "      <td>76808</td>\n",
       "      <td>4.666667</td>\n",
       "      <td>3</td>\n",
       "    </tr>\n",
       "  </tbody>\n",
       "</table>\n",
       "</div>"
      ],
      "text/plain": [
       "                                         name      id  minutes  \\\n",
       "0  arriba   baked winter squash mexican style  137739       55   \n",
       "1            a bit different  breakfast pizza   31490       30   \n",
       "2                     beat this  banana bread   75452       70   \n",
       "3               better than sex  strawberries   42198     1460   \n",
       "4             better then bush s  baked beans   67547     2970   \n",
       "5            chicken lickin  good  pork chops   63986      500   \n",
       "6                              chile rellenos   43026       45   \n",
       "7                              chinese  candy   23933       15   \n",
       "8                          chinese  chop suey    8559       70   \n",
       "9                      cream  of spinach soup   76808       45   \n",
       "\n",
       "   contributor_id   submitted  \\\n",
       "0           47892  2005-09-16   \n",
       "1           26278  2002-06-17   \n",
       "2           15892  2003-11-04   \n",
       "3           41531  2002-10-03   \n",
       "4           85627  2003-07-26   \n",
       "5           14664  2003-06-06   \n",
       "6           52268  2002-10-14   \n",
       "7           35268  2002-03-29   \n",
       "8            4481  2001-01-27   \n",
       "9           95743  2003-11-17   \n",
       "\n",
       "                                                tags  \\\n",
       "0  ['60-minutes-or-less', 'time-to-make', 'course...   \n",
       "1  ['30-minutes-or-less', 'time-to-make', 'course...   \n",
       "2  ['weeknight', 'time-to-make', 'course', 'main-...   \n",
       "3  ['weeknight', 'time-to-make', 'course', 'main-...   \n",
       "4  ['weeknight', 'time-to-make', 'course', 'main-...   \n",
       "5  ['weeknight', 'time-to-make', 'course', 'main-...   \n",
       "6  ['60-minutes-or-less', 'time-to-make', 'course...   \n",
       "7  ['15-minutes-or-less', 'time-to-make', 'course...   \n",
       "8  ['weeknight', 'time-to-make', 'course', 'main-...   \n",
       "9  ['60-minutes-or-less', 'time-to-make', 'course...   \n",
       "\n",
       "                                           nutrition  n_steps  \\\n",
       "0              [51.5, 0.0, 13.0, 0.0, 2.0, 0.0, 4.0]       11   \n",
       "1          [173.4, 18.0, 0.0, 17.0, 22.0, 35.0, 1.0]        9   \n",
       "2  [2669.3, 160.0, 976.0, 107.0, 62.0, 310.0, 138.0]       12   \n",
       "3      [734.1, 66.0, 199.0, 10.0, 10.0, 117.0, 28.0]        8   \n",
       "4       [462.4, 28.0, 214.0, 69.0, 14.0, 29.0, 23.0]        9   \n",
       "5             [105.7, 8.0, 0.0, 26.0, 5.0, 4.0, 3.0]        5   \n",
       "6           [94.0, 10.0, 0.0, 11.0, 11.0, 21.0, 0.0]        9   \n",
       "7           [232.7, 21.0, 77.0, 4.0, 6.0, 38.0, 8.0]        4   \n",
       "8         [395.4, 31.0, 20.0, 29.0, 51.0, 33.0, 8.0]        8   \n",
       "9           [126.0, 11.0, 2.0, 14.0, 5.0, 23.0, 4.0]        9   \n",
       "\n",
       "                                               steps  \\\n",
       "0  ['make a choice and proceed with recipe', 'dep...   \n",
       "1  ['preheat oven to 425 degrees f', 'press dough...   \n",
       "2  ['preheat oven to 350 degrees', 'butter two 9x...   \n",
       "3  ['crush vanilla wafers into fine crumbs and li...   \n",
       "4  ['in a very large sauce pan cover the beans an...   \n",
       "5  ['dredge pork chops in mixture of flour , salt...   \n",
       "6  ['drain green chiles', 'sprinkle cornstarch on...   \n",
       "7  ['melt butterscotch chips in heavy saucepan ov...   \n",
       "8  ['brown ground meat and onion in a large pot',...   \n",
       "9  ['bring water and salt to a boil', 'cut the po...   \n",
       "\n",
       "                                         description  \\\n",
       "0  autumn is my favorite time of year to cook! th...   \n",
       "1  this recipe calls for the crust to be prebaked...   \n",
       "2                                from ann hodgman's    \n",
       "3  simple but sexy. this was in my local newspape...   \n",
       "4  i'd have to say that this is a labor of love d...   \n",
       "5  here's and old standby i enjoy from time to ti...   \n",
       "6  a favorite from a local restaurant no longer i...   \n",
       "7  a little different, and oh so good. i include ...   \n",
       "8                              easy one-pot dinner.    \n",
       "9  wonderful comfort food from rozanne gold, a fa...   \n",
       "\n",
       "                                         ingredients  n_ingredients  \\\n",
       "0  ['winter squash', 'mexican seasoning', 'mixed ...              7   \n",
       "1  ['prepared pizza crust', 'sausage patty', 'egg...              6   \n",
       "2  ['sugar', 'unsalted butter', 'bananas', 'eggs'...              9   \n",
       "3  ['vanilla wafers', 'butter', 'powdered sugar',...              7   \n",
       "4  ['great northern bean', 'chicken bouillon cube...             13   \n",
       "5  ['lean pork chops', 'flour', 'salt', 'dry must...              7   \n",
       "6  ['egg roll wrap', 'whole green chilies', 'chee...              5   \n",
       "7  ['butterscotch chips', 'chinese noodles', 'sal...              3   \n",
       "8  ['celery', 'onion', 'ground pork', 'soy sauce'...              7   \n",
       "9  ['water', 'salt', 'boiling potatoes', 'fresh s...              8   \n",
       "\n",
       "   recipe_id  rating_mean  user_id_nunique  \n",
       "0     137739     5.000000                3  \n",
       "1      31490     3.500000                4  \n",
       "2      75452     4.400000                5  \n",
       "3      42198     3.800000                5  \n",
       "4      67547     3.900000               10  \n",
       "5      63986     4.368421               19  \n",
       "6      43026     4.045455               22  \n",
       "7      23933     4.833333               12  \n",
       "8       8559     2.000000                4  \n",
       "9      76808     4.666667                3  "
      ]
     },
     "execution_count": 8,
     "metadata": {},
     "output_type": "execute_result"
    }
   ],
   "source": [
    "filter_recipe.head(10)"
   ]
  },
  {
   "cell_type": "code",
   "execution_count": 9,
   "metadata": {
    "execution": {
     "iopub.execute_input": "2022-11-22T06:04:35.852040Z",
     "iopub.status.busy": "2022-11-22T06:04:35.851679Z",
     "iopub.status.idle": "2022-11-22T06:04:35.930007Z",
     "shell.execute_reply": "2022-11-22T06:04:35.929162Z",
     "shell.execute_reply.started": "2022-11-22T06:04:35.852008Z"
    }
   },
   "outputs": [],
   "source": [
    "import numpy as np\n",
    "phrase_to_list = np.empty(len(filter_recipe), dtype=object)\n",
    "for i in range (0,len(filter_recipe)):\n",
    "  T1=recipes['ingredients'][i]\n",
    "  T1=T1.replace('[', '')\n",
    "  T1=T1.replace(']', '')\n",
    "  phrase_to_list[i] = T1\n",
    "df = pd.DataFrame(phrase_to_list, columns = ['ingredients'])\n",
    "filter_recipe['ingredients'] = df['ingredients'].values"
   ]
  },
  {
   "cell_type": "code",
   "execution_count": 10,
   "metadata": {
    "execution": {
     "iopub.execute_input": "2022-11-22T06:04:39.220694Z",
     "iopub.status.busy": "2022-11-22T06:04:39.219973Z",
     "iopub.status.idle": "2022-11-22T06:04:39.412580Z",
     "shell.execute_reply": "2022-11-22T06:04:39.411617Z",
     "shell.execute_reply.started": "2022-11-22T06:04:39.220653Z"
    }
   },
   "outputs": [],
   "source": [
    "filter_recipe['ingredients'] = filter_recipe['ingredients'].apply(lambda x : \" \".join(ast.literal_eval(x)))\n"
   ]
  },
  {
   "cell_type": "code",
   "execution_count": 11,
   "metadata": {},
   "outputs": [
    {
     "data": {
      "text/html": [
       "<div>\n",
       "<style scoped>\n",
       "    .dataframe tbody tr th:only-of-type {\n",
       "        vertical-align: middle;\n",
       "    }\n",
       "\n",
       "    .dataframe tbody tr th {\n",
       "        vertical-align: top;\n",
       "    }\n",
       "\n",
       "    .dataframe thead th {\n",
       "        text-align: right;\n",
       "    }\n",
       "</style>\n",
       "<table border=\"1\" class=\"dataframe\">\n",
       "  <thead>\n",
       "    <tr style=\"text-align: right;\">\n",
       "      <th></th>\n",
       "      <th>name</th>\n",
       "      <th>id</th>\n",
       "      <th>minutes</th>\n",
       "      <th>contributor_id</th>\n",
       "      <th>submitted</th>\n",
       "      <th>tags</th>\n",
       "      <th>nutrition</th>\n",
       "      <th>n_steps</th>\n",
       "      <th>steps</th>\n",
       "      <th>description</th>\n",
       "      <th>ingredients</th>\n",
       "      <th>n_ingredients</th>\n",
       "      <th>recipe_id</th>\n",
       "      <th>rating_mean</th>\n",
       "      <th>user_id_nunique</th>\n",
       "    </tr>\n",
       "  </thead>\n",
       "  <tbody>\n",
       "    <tr>\n",
       "      <th>0</th>\n",
       "      <td>arriba   baked winter squash mexican style</td>\n",
       "      <td>137739</td>\n",
       "      <td>55</td>\n",
       "      <td>47892</td>\n",
       "      <td>2005-09-16</td>\n",
       "      <td>['60-minutes-or-less', 'time-to-make', 'course...</td>\n",
       "      <td>[51.5, 0.0, 13.0, 0.0, 2.0, 0.0, 4.0]</td>\n",
       "      <td>11</td>\n",
       "      <td>['make a choice and proceed with recipe', 'dep...</td>\n",
       "      <td>autumn is my favorite time of year to cook! th...</td>\n",
       "      <td>winter squash mexican seasoning mixed spice ho...</td>\n",
       "      <td>7</td>\n",
       "      <td>137739</td>\n",
       "      <td>5.000000</td>\n",
       "      <td>3</td>\n",
       "    </tr>\n",
       "    <tr>\n",
       "      <th>1</th>\n",
       "      <td>a bit different  breakfast pizza</td>\n",
       "      <td>31490</td>\n",
       "      <td>30</td>\n",
       "      <td>26278</td>\n",
       "      <td>2002-06-17</td>\n",
       "      <td>['30-minutes-or-less', 'time-to-make', 'course...</td>\n",
       "      <td>[173.4, 18.0, 0.0, 17.0, 22.0, 35.0, 1.0]</td>\n",
       "      <td>9</td>\n",
       "      <td>['preheat oven to 425 degrees f', 'press dough...</td>\n",
       "      <td>this recipe calls for the crust to be prebaked...</td>\n",
       "      <td>prepared pizza crust sausage patty eggs milk s...</td>\n",
       "      <td>6</td>\n",
       "      <td>31490</td>\n",
       "      <td>3.500000</td>\n",
       "      <td>4</td>\n",
       "    </tr>\n",
       "    <tr>\n",
       "      <th>2</th>\n",
       "      <td>beat this  banana bread</td>\n",
       "      <td>75452</td>\n",
       "      <td>70</td>\n",
       "      <td>15892</td>\n",
       "      <td>2003-11-04</td>\n",
       "      <td>['weeknight', 'time-to-make', 'course', 'main-...</td>\n",
       "      <td>[2669.3, 160.0, 976.0, 107.0, 62.0, 310.0, 138.0]</td>\n",
       "      <td>12</td>\n",
       "      <td>['preheat oven to 350 degrees', 'butter two 9x...</td>\n",
       "      <td>from ann hodgman's</td>\n",
       "      <td>ground beef yellow onions diced tomatoes tomat...</td>\n",
       "      <td>9</td>\n",
       "      <td>75452</td>\n",
       "      <td>4.400000</td>\n",
       "      <td>5</td>\n",
       "    </tr>\n",
       "    <tr>\n",
       "      <th>3</th>\n",
       "      <td>better than sex  strawberries</td>\n",
       "      <td>42198</td>\n",
       "      <td>1460</td>\n",
       "      <td>41531</td>\n",
       "      <td>2002-10-03</td>\n",
       "      <td>['weeknight', 'time-to-make', 'course', 'main-...</td>\n",
       "      <td>[734.1, 66.0, 199.0, 10.0, 10.0, 117.0, 28.0]</td>\n",
       "      <td>8</td>\n",
       "      <td>['crush vanilla wafers into fine crumbs and li...</td>\n",
       "      <td>simple but sexy. this was in my local newspape...</td>\n",
       "      <td>spreadable cheese with garlic and herbs new po...</td>\n",
       "      <td>7</td>\n",
       "      <td>42198</td>\n",
       "      <td>3.800000</td>\n",
       "      <td>5</td>\n",
       "    </tr>\n",
       "    <tr>\n",
       "      <th>4</th>\n",
       "      <td>better then bush s  baked beans</td>\n",
       "      <td>67547</td>\n",
       "      <td>2970</td>\n",
       "      <td>85627</td>\n",
       "      <td>2003-07-26</td>\n",
       "      <td>['weeknight', 'time-to-make', 'course', 'main-...</td>\n",
       "      <td>[462.4, 28.0, 214.0, 69.0, 14.0, 29.0, 23.0]</td>\n",
       "      <td>9</td>\n",
       "      <td>['in a very large sauce pan cover the beans an...</td>\n",
       "      <td>i'd have to say that this is a labor of love d...</td>\n",
       "      <td>tomato juice apple cider vinegar sugar salt pe...</td>\n",
       "      <td>13</td>\n",
       "      <td>67547</td>\n",
       "      <td>3.900000</td>\n",
       "      <td>10</td>\n",
       "    </tr>\n",
       "    <tr>\n",
       "      <th>5</th>\n",
       "      <td>chicken lickin  good  pork chops</td>\n",
       "      <td>63986</td>\n",
       "      <td>500</td>\n",
       "      <td>14664</td>\n",
       "      <td>2003-06-06</td>\n",
       "      <td>['weeknight', 'time-to-make', 'course', 'main-...</td>\n",
       "      <td>[105.7, 8.0, 0.0, 26.0, 5.0, 4.0, 3.0]</td>\n",
       "      <td>5</td>\n",
       "      <td>['dredge pork chops in mixture of flour , salt...</td>\n",
       "      <td>here's and old standby i enjoy from time to ti...</td>\n",
       "      <td>milk vanilla ice cream frozen apple juice conc...</td>\n",
       "      <td>7</td>\n",
       "      <td>63986</td>\n",
       "      <td>4.368421</td>\n",
       "      <td>19</td>\n",
       "    </tr>\n",
       "    <tr>\n",
       "      <th>6</th>\n",
       "      <td>chile rellenos</td>\n",
       "      <td>43026</td>\n",
       "      <td>45</td>\n",
       "      <td>52268</td>\n",
       "      <td>2002-10-14</td>\n",
       "      <td>['60-minutes-or-less', 'time-to-make', 'course...</td>\n",
       "      <td>[94.0, 10.0, 0.0, 11.0, 11.0, 21.0, 0.0]</td>\n",
       "      <td>9</td>\n",
       "      <td>['drain green chiles', 'sprinkle cornstarch on...</td>\n",
       "      <td>a favorite from a local restaurant no longer i...</td>\n",
       "      <td>fennel seeds green olives ripe olives garlic p...</td>\n",
       "      <td>5</td>\n",
       "      <td>43026</td>\n",
       "      <td>4.045455</td>\n",
       "      <td>22</td>\n",
       "    </tr>\n",
       "    <tr>\n",
       "      <th>7</th>\n",
       "      <td>chinese  candy</td>\n",
       "      <td>23933</td>\n",
       "      <td>15</td>\n",
       "      <td>35268</td>\n",
       "      <td>2002-03-29</td>\n",
       "      <td>['15-minutes-or-less', 'time-to-make', 'course...</td>\n",
       "      <td>[232.7, 21.0, 77.0, 4.0, 6.0, 38.0, 8.0]</td>\n",
       "      <td>4</td>\n",
       "      <td>['melt butterscotch chips in heavy saucepan ov...</td>\n",
       "      <td>a little different, and oh so good. i include ...</td>\n",
       "      <td>pork spareribs soy sauce fresh garlic fresh gi...</td>\n",
       "      <td>3</td>\n",
       "      <td>23933</td>\n",
       "      <td>4.833333</td>\n",
       "      <td>12</td>\n",
       "    </tr>\n",
       "    <tr>\n",
       "      <th>8</th>\n",
       "      <td>chinese  chop suey</td>\n",
       "      <td>8559</td>\n",
       "      <td>70</td>\n",
       "      <td>4481</td>\n",
       "      <td>2001-01-27</td>\n",
       "      <td>['weeknight', 'time-to-make', 'course', 'main-...</td>\n",
       "      <td>[395.4, 31.0, 20.0, 29.0, 51.0, 33.0, 8.0]</td>\n",
       "      <td>8</td>\n",
       "      <td>['brown ground meat and onion in a large pot',...</td>\n",
       "      <td>easy one-pot dinner.</td>\n",
       "      <td>chocolate sandwich style cookies chocolate syr...</td>\n",
       "      <td>7</td>\n",
       "      <td>8559</td>\n",
       "      <td>2.000000</td>\n",
       "      <td>4</td>\n",
       "    </tr>\n",
       "    <tr>\n",
       "      <th>9</th>\n",
       "      <td>cream  of spinach soup</td>\n",
       "      <td>76808</td>\n",
       "      <td>45</td>\n",
       "      <td>95743</td>\n",
       "      <td>2003-11-17</td>\n",
       "      <td>['60-minutes-or-less', 'time-to-make', 'course...</td>\n",
       "      <td>[126.0, 11.0, 2.0, 14.0, 5.0, 23.0, 4.0]</td>\n",
       "      <td>9</td>\n",
       "      <td>['bring water and salt to a boil', 'cut the po...</td>\n",
       "      <td>wonderful comfort food from rozanne gold, a fa...</td>\n",
       "      <td>sugar unsalted butter bananas eggs fresh lemon...</td>\n",
       "      <td>8</td>\n",
       "      <td>76808</td>\n",
       "      <td>4.666667</td>\n",
       "      <td>3</td>\n",
       "    </tr>\n",
       "  </tbody>\n",
       "</table>\n",
       "</div>"
      ],
      "text/plain": [
       "                                         name      id  minutes  \\\n",
       "0  arriba   baked winter squash mexican style  137739       55   \n",
       "1            a bit different  breakfast pizza   31490       30   \n",
       "2                     beat this  banana bread   75452       70   \n",
       "3               better than sex  strawberries   42198     1460   \n",
       "4             better then bush s  baked beans   67547     2970   \n",
       "5            chicken lickin  good  pork chops   63986      500   \n",
       "6                              chile rellenos   43026       45   \n",
       "7                              chinese  candy   23933       15   \n",
       "8                          chinese  chop suey    8559       70   \n",
       "9                      cream  of spinach soup   76808       45   \n",
       "\n",
       "   contributor_id   submitted  \\\n",
       "0           47892  2005-09-16   \n",
       "1           26278  2002-06-17   \n",
       "2           15892  2003-11-04   \n",
       "3           41531  2002-10-03   \n",
       "4           85627  2003-07-26   \n",
       "5           14664  2003-06-06   \n",
       "6           52268  2002-10-14   \n",
       "7           35268  2002-03-29   \n",
       "8            4481  2001-01-27   \n",
       "9           95743  2003-11-17   \n",
       "\n",
       "                                                tags  \\\n",
       "0  ['60-minutes-or-less', 'time-to-make', 'course...   \n",
       "1  ['30-minutes-or-less', 'time-to-make', 'course...   \n",
       "2  ['weeknight', 'time-to-make', 'course', 'main-...   \n",
       "3  ['weeknight', 'time-to-make', 'course', 'main-...   \n",
       "4  ['weeknight', 'time-to-make', 'course', 'main-...   \n",
       "5  ['weeknight', 'time-to-make', 'course', 'main-...   \n",
       "6  ['60-minutes-or-less', 'time-to-make', 'course...   \n",
       "7  ['15-minutes-or-less', 'time-to-make', 'course...   \n",
       "8  ['weeknight', 'time-to-make', 'course', 'main-...   \n",
       "9  ['60-minutes-or-less', 'time-to-make', 'course...   \n",
       "\n",
       "                                           nutrition  n_steps  \\\n",
       "0              [51.5, 0.0, 13.0, 0.0, 2.0, 0.0, 4.0]       11   \n",
       "1          [173.4, 18.0, 0.0, 17.0, 22.0, 35.0, 1.0]        9   \n",
       "2  [2669.3, 160.0, 976.0, 107.0, 62.0, 310.0, 138.0]       12   \n",
       "3      [734.1, 66.0, 199.0, 10.0, 10.0, 117.0, 28.0]        8   \n",
       "4       [462.4, 28.0, 214.0, 69.0, 14.0, 29.0, 23.0]        9   \n",
       "5             [105.7, 8.0, 0.0, 26.0, 5.0, 4.0, 3.0]        5   \n",
       "6           [94.0, 10.0, 0.0, 11.0, 11.0, 21.0, 0.0]        9   \n",
       "7           [232.7, 21.0, 77.0, 4.0, 6.0, 38.0, 8.0]        4   \n",
       "8         [395.4, 31.0, 20.0, 29.0, 51.0, 33.0, 8.0]        8   \n",
       "9           [126.0, 11.0, 2.0, 14.0, 5.0, 23.0, 4.0]        9   \n",
       "\n",
       "                                               steps  \\\n",
       "0  ['make a choice and proceed with recipe', 'dep...   \n",
       "1  ['preheat oven to 425 degrees f', 'press dough...   \n",
       "2  ['preheat oven to 350 degrees', 'butter two 9x...   \n",
       "3  ['crush vanilla wafers into fine crumbs and li...   \n",
       "4  ['in a very large sauce pan cover the beans an...   \n",
       "5  ['dredge pork chops in mixture of flour , salt...   \n",
       "6  ['drain green chiles', 'sprinkle cornstarch on...   \n",
       "7  ['melt butterscotch chips in heavy saucepan ov...   \n",
       "8  ['brown ground meat and onion in a large pot',...   \n",
       "9  ['bring water and salt to a boil', 'cut the po...   \n",
       "\n",
       "                                         description  \\\n",
       "0  autumn is my favorite time of year to cook! th...   \n",
       "1  this recipe calls for the crust to be prebaked...   \n",
       "2                                from ann hodgman's    \n",
       "3  simple but sexy. this was in my local newspape...   \n",
       "4  i'd have to say that this is a labor of love d...   \n",
       "5  here's and old standby i enjoy from time to ti...   \n",
       "6  a favorite from a local restaurant no longer i...   \n",
       "7  a little different, and oh so good. i include ...   \n",
       "8                              easy one-pot dinner.    \n",
       "9  wonderful comfort food from rozanne gold, a fa...   \n",
       "\n",
       "                                         ingredients  n_ingredients  \\\n",
       "0  winter squash mexican seasoning mixed spice ho...              7   \n",
       "1  prepared pizza crust sausage patty eggs milk s...              6   \n",
       "2  ground beef yellow onions diced tomatoes tomat...              9   \n",
       "3  spreadable cheese with garlic and herbs new po...              7   \n",
       "4  tomato juice apple cider vinegar sugar salt pe...             13   \n",
       "5  milk vanilla ice cream frozen apple juice conc...              7   \n",
       "6  fennel seeds green olives ripe olives garlic p...              5   \n",
       "7  pork spareribs soy sauce fresh garlic fresh gi...              3   \n",
       "8  chocolate sandwich style cookies chocolate syr...              7   \n",
       "9  sugar unsalted butter bananas eggs fresh lemon...              8   \n",
       "\n",
       "   recipe_id  rating_mean  user_id_nunique  \n",
       "0     137739     5.000000                3  \n",
       "1      31490     3.500000                4  \n",
       "2      75452     4.400000                5  \n",
       "3      42198     3.800000                5  \n",
       "4      67547     3.900000               10  \n",
       "5      63986     4.368421               19  \n",
       "6      43026     4.045455               22  \n",
       "7      23933     4.833333               12  \n",
       "8       8559     2.000000                4  \n",
       "9      76808     4.666667                3  "
      ]
     },
     "execution_count": 11,
     "metadata": {},
     "output_type": "execute_result"
    }
   ],
   "source": [
    "#filter_recipe.drop(['minutes','contributor_id','submitted','nutrition','n_steps','description','user_id_nunique'], inplace=True, axis=1)\n",
    "#filter_recipe=filter_recipe.drop_duplicates(subset=['ingredients'])\n",
    "filter_recipe.dropna(subset=['rating_mean'])\n",
    "filter_recipe.head(10)"
   ]
  },
  {
   "cell_type": "code",
   "execution_count": 12,
   "metadata": {
    "execution": {
     "iopub.execute_input": "2022-11-22T06:04:43.090037Z",
     "iopub.status.busy": "2022-11-22T06:04:43.089670Z",
     "iopub.status.idle": "2022-11-22T06:05:37.919543Z",
     "shell.execute_reply": "2022-11-22T06:05:37.918390Z",
     "shell.execute_reply.started": "2022-11-22T06:04:43.090004Z"
    }
   },
   "outputs": [],
   "source": [
    "encodings_ing= model.encode(filter_recipe['ingredients'])\n",
    "#Pickle embedding as it has a run time\n",
    "pickle.dump(encodings_ing,open(\"ing_embedding.pickle\",'wb'))"
   ]
  },
  {
   "cell_type": "code",
   "execution_count": 13,
   "metadata": {
    "execution": {
     "iopub.execute_input": "2022-11-22T06:05:46.701436Z",
     "iopub.status.busy": "2022-11-22T06:05:46.700853Z",
     "iopub.status.idle": "2022-11-22T06:05:46.778868Z",
     "shell.execute_reply": "2022-11-22T06:05:46.777948Z",
     "shell.execute_reply.started": "2022-11-22T06:05:46.701390Z"
    }
   },
   "outputs": [
    {
     "name": "stdout",
     "output_type": "stream",
     "text": [
      "Encoding are loaded\n"
     ]
    }
   ],
   "source": [
    "encodings_ing_df = pickle.load(open(\"ing_embedding.pickle\",'rb'))\n",
    "print (\"Encoding are loaded\")\n",
    "ing_data_encoding = pd.DataFrame(encodings_ing_df)"
   ]
  },
  {
   "cell_type": "code",
   "execution_count": 14,
   "metadata": {
    "execution": {
     "iopub.execute_input": "2022-11-22T06:05:49.842614Z",
     "iopub.status.busy": "2022-11-22T06:05:49.842123Z",
     "iopub.status.idle": "2022-11-22T06:05:50.046066Z",
     "shell.execute_reply": "2022-11-22T06:05:50.044733Z",
     "shell.execute_reply.started": "2022-11-22T06:05:49.842579Z"
    }
   },
   "outputs": [],
   "source": [
    "ing_encoding_sparse = sparse.csr_matrix(encodings_ing_df[0:10000])\n"
   ]
  },
  {
   "cell_type": "code",
   "execution_count": 15,
   "metadata": {
    "execution": {
     "iopub.execute_input": "2022-11-22T06:07:57.350575Z",
     "iopub.status.busy": "2022-11-22T06:07:57.350102Z",
     "iopub.status.idle": "2022-11-22T06:09:54.985984Z",
     "shell.execute_reply": "2022-11-22T06:09:54.984833Z",
     "shell.execute_reply.started": "2022-11-22T06:07:57.350532Z"
    }
   },
   "outputs": [
    {
     "name": "stdout",
     "output_type": "stream",
     "text": [
      "2022-11-30 15:41:20.203906\n",
      "Time taken is :\n",
      "0:02:27.896875\n"
     ]
    }
   ],
   "source": [
    "import datetime\n",
    "time = datetime.datetime.now()\n",
    "print (time)\n",
    "ing_similarities_sparse = cosine_similarity(ing_encoding_sparse)\n",
    "# print('pairwise sparse output:\\n {}\\n'.format(similarities_sparse))\n",
    "print (\"Time taken is :\",)\n",
    "print (datetime.datetime.now()-time)"
   ]
  },
  {
   "cell_type": "code",
   "execution_count": 16,
   "metadata": {
    "execution": {
     "iopub.execute_input": "2022-11-22T06:09:58.591633Z",
     "iopub.status.busy": "2022-11-22T06:09:58.591245Z",
     "iopub.status.idle": "2022-11-22T06:09:58.770377Z",
     "shell.execute_reply": "2022-11-22T06:09:58.769327Z",
     "shell.execute_reply.started": "2022-11-22T06:09:58.591600Z"
    }
   },
   "outputs": [],
   "source": [
    "ing_df1 = pd.DataFrame(ing_similarities_sparse)\n",
    "pickle.dump(ing_df1,open('ing_similarities_sparse.pickle','wb'))"
   ]
  },
  {
   "cell_type": "code",
   "execution_count": 17,
   "metadata": {
    "execution": {
     "iopub.execute_input": "2022-11-22T06:16:30.225188Z",
     "iopub.status.busy": "2022-11-22T06:16:30.224787Z",
     "iopub.status.idle": "2022-11-22T06:16:31.392946Z",
     "shell.execute_reply": "2022-11-22T06:16:31.391964Z",
     "shell.execute_reply.started": "2022-11-22T06:16:30.225152Z"
    }
   },
   "outputs": [],
   "source": [
    "ing_df1 = pickle.load(open('ing_similarities_sparse.pickle','rb'))\n",
    "ing_data_similarity = ing_df1.unstack().reset_index() "
   ]
  },
  {
   "cell_type": "code",
   "execution_count": 18,
   "metadata": {
    "execution": {
     "iopub.execute_input": "2022-11-22T06:16:33.923886Z",
     "iopub.status.busy": "2022-11-22T06:16:33.923502Z",
     "iopub.status.idle": "2022-11-22T06:16:33.928771Z",
     "shell.execute_reply": "2022-11-22T06:16:33.927788Z",
     "shell.execute_reply.started": "2022-11-22T06:16:33.923851Z"
    }
   },
   "outputs": [],
   "source": [
    "ing_data_similarity.columns = ['ingredient1','ingredient2','cosine_similarity']"
   ]
  },
  {
   "cell_type": "code",
   "execution_count": 19,
   "metadata": {
    "execution": {
     "iopub.execute_input": "2022-11-22T06:16:35.944910Z",
     "iopub.status.busy": "2022-11-22T06:16:35.944532Z",
     "iopub.status.idle": "2022-11-22T06:16:37.141468Z",
     "shell.execute_reply": "2022-11-22T06:16:37.140385Z",
     "shell.execute_reply.started": "2022-11-22T06:16:35.944874Z"
    }
   },
   "outputs": [],
   "source": [
    "ing_data_similarity = ing_data_similarity[ing_data_similarity['cosine_similarity']<0.9999]"
   ]
  },
  {
   "cell_type": "code",
   "execution_count": 20,
   "metadata": {
    "execution": {
     "iopub.execute_input": "2022-11-22T06:16:38.067849Z",
     "iopub.status.busy": "2022-11-22T06:16:38.067502Z",
     "iopub.status.idle": "2022-11-22T06:16:38.073990Z",
     "shell.execute_reply": "2022-11-22T06:16:38.073031Z",
     "shell.execute_reply.started": "2022-11-22T06:16:38.067818Z"
    }
   },
   "outputs": [
    {
     "data": {
      "text/plain": [
       "(99989972, 3)"
      ]
     },
     "execution_count": 20,
     "metadata": {},
     "output_type": "execute_result"
    }
   ],
   "source": [
    "ing_data_similarity.shape"
   ]
  },
  {
   "cell_type": "code",
   "execution_count": 21,
   "metadata": {
    "execution": {
     "iopub.execute_input": "2022-11-22T06:16:40.217644Z",
     "iopub.status.busy": "2022-11-22T06:16:40.216931Z",
     "iopub.status.idle": "2022-11-22T06:16:40.229363Z",
     "shell.execute_reply": "2022-11-22T06:16:40.228375Z",
     "shell.execute_reply.started": "2022-11-22T06:16:40.217606Z"
    }
   },
   "outputs": [
    {
     "name": "stdout",
     "output_type": "stream",
     "text": [
      "Dictionary is created :\n"
     ]
    }
   ],
   "source": [
    "ingredient_dict = {}\n",
    "for j,i in enumerate(filter_recipe['ingredients']):\n",
    "    ingredient_dict[j] = i\n",
    "print (\"Dictionary is created :\")"
   ]
  },
  {
   "cell_type": "code",
   "execution_count": 22,
   "metadata": {
    "execution": {
     "iopub.execute_input": "2022-11-22T06:16:47.154608Z",
     "iopub.status.busy": "2022-11-22T06:16:47.154245Z",
     "iopub.status.idle": "2022-11-22T06:16:49.279595Z",
     "shell.execute_reply": "2022-11-22T06:16:49.278470Z",
     "shell.execute_reply.started": "2022-11-22T06:16:47.154574Z"
    }
   },
   "outputs": [],
   "source": [
    "ing_data_similarity['ingredient1_name'] = ing_data_similarity['ingredient1'].map(ingredient_dict)\n",
    "ing_data_similarity['ingredient2_name'] = ing_data_similarity['ingredient2'].map(ingredient_dict)"
   ]
  },
  {
   "cell_type": "code",
   "execution_count": 23,
   "metadata": {
    "execution": {
     "iopub.execute_input": "2022-11-22T06:16:50.981666Z",
     "iopub.status.busy": "2022-11-22T06:16:50.980711Z",
     "iopub.status.idle": "2022-11-22T06:16:50.996322Z",
     "shell.execute_reply": "2022-11-22T06:16:50.994810Z",
     "shell.execute_reply.started": "2022-11-22T06:16:50.981626Z"
    }
   },
   "outputs": [
    {
     "data": {
      "text/html": [
       "<div>\n",
       "<style scoped>\n",
       "    .dataframe tbody tr th:only-of-type {\n",
       "        vertical-align: middle;\n",
       "    }\n",
       "\n",
       "    .dataframe tbody tr th {\n",
       "        vertical-align: top;\n",
       "    }\n",
       "\n",
       "    .dataframe thead th {\n",
       "        text-align: right;\n",
       "    }\n",
       "</style>\n",
       "<table border=\"1\" class=\"dataframe\">\n",
       "  <thead>\n",
       "    <tr style=\"text-align: right;\">\n",
       "      <th></th>\n",
       "      <th>ingredient1</th>\n",
       "      <th>ingredient2</th>\n",
       "      <th>cosine_similarity</th>\n",
       "      <th>ingredient1_name</th>\n",
       "      <th>ingredient2_name</th>\n",
       "    </tr>\n",
       "  </thead>\n",
       "  <tbody>\n",
       "    <tr>\n",
       "      <th>1</th>\n",
       "      <td>0</td>\n",
       "      <td>1</td>\n",
       "      <td>0.499341</td>\n",
       "      <td>winter squash mexican seasoning mixed spice ho...</td>\n",
       "      <td>prepared pizza crust sausage patty eggs milk s...</td>\n",
       "    </tr>\n",
       "    <tr>\n",
       "      <th>2</th>\n",
       "      <td>0</td>\n",
       "      <td>2</td>\n",
       "      <td>0.633273</td>\n",
       "      <td>winter squash mexican seasoning mixed spice ho...</td>\n",
       "      <td>ground beef yellow onions diced tomatoes tomat...</td>\n",
       "    </tr>\n",
       "    <tr>\n",
       "      <th>3</th>\n",
       "      <td>0</td>\n",
       "      <td>3</td>\n",
       "      <td>0.579589</td>\n",
       "      <td>winter squash mexican seasoning mixed spice ho...</td>\n",
       "      <td>spreadable cheese with garlic and herbs new po...</td>\n",
       "    </tr>\n",
       "    <tr>\n",
       "      <th>4</th>\n",
       "      <td>0</td>\n",
       "      <td>4</td>\n",
       "      <td>0.663928</td>\n",
       "      <td>winter squash mexican seasoning mixed spice ho...</td>\n",
       "      <td>tomato juice apple cider vinegar sugar salt pe...</td>\n",
       "    </tr>\n",
       "    <tr>\n",
       "      <th>5</th>\n",
       "      <td>0</td>\n",
       "      <td>5</td>\n",
       "      <td>0.506873</td>\n",
       "      <td>winter squash mexican seasoning mixed spice ho...</td>\n",
       "      <td>milk vanilla ice cream frozen apple juice conc...</td>\n",
       "    </tr>\n",
       "  </tbody>\n",
       "</table>\n",
       "</div>"
      ],
      "text/plain": [
       "   ingredient1  ingredient2  cosine_similarity  \\\n",
       "1            0            1           0.499341   \n",
       "2            0            2           0.633273   \n",
       "3            0            3           0.579589   \n",
       "4            0            4           0.663928   \n",
       "5            0            5           0.506873   \n",
       "\n",
       "                                    ingredient1_name  \\\n",
       "1  winter squash mexican seasoning mixed spice ho...   \n",
       "2  winter squash mexican seasoning mixed spice ho...   \n",
       "3  winter squash mexican seasoning mixed spice ho...   \n",
       "4  winter squash mexican seasoning mixed spice ho...   \n",
       "5  winter squash mexican seasoning mixed spice ho...   \n",
       "\n",
       "                                    ingredient2_name  \n",
       "1  prepared pizza crust sausage patty eggs milk s...  \n",
       "2  ground beef yellow onions diced tomatoes tomat...  \n",
       "3  spreadable cheese with garlic and herbs new po...  \n",
       "4  tomato juice apple cider vinegar sugar salt pe...  \n",
       "5  milk vanilla ice cream frozen apple juice conc...  "
      ]
     },
     "execution_count": 23,
     "metadata": {},
     "output_type": "execute_result"
    }
   ],
   "source": [
    "ing_data_similarity.head(5)"
   ]
  },
  {
   "cell_type": "code",
   "execution_count": 24,
   "metadata": {
    "execution": {
     "iopub.execute_input": "2022-11-22T06:16:57.044933Z",
     "iopub.status.busy": "2022-11-22T06:16:57.044575Z",
     "iopub.status.idle": "2022-11-22T06:17:09.811458Z",
     "shell.execute_reply": "2022-11-22T06:17:09.810473Z",
     "shell.execute_reply.started": "2022-11-22T06:16:57.044900Z"
    }
   },
   "outputs": [],
   "source": [
    "ing_data_similarity['similarity_rank'] = ing_data_similarity.groupby(['ingredient1'])['cosine_similarity'].rank(\"dense\", ascending=False)"
   ]
  },
  {
   "cell_type": "code",
   "execution_count": 25,
   "metadata": {
    "execution": {
     "iopub.execute_input": "2022-11-22T06:17:12.468797Z",
     "iopub.status.busy": "2022-11-22T06:17:12.468415Z",
     "iopub.status.idle": "2022-11-22T06:17:14.170452Z",
     "shell.execute_reply": "2022-11-22T06:17:14.169195Z",
     "shell.execute_reply.started": "2022-11-22T06:17:12.468763Z"
    }
   },
   "outputs": [],
   "source": [
    "ing_data_similarity = ing_data_similarity[ing_data_similarity['similarity_rank'] <= 1].reset_index()"
   ]
  },
  {
   "cell_type": "code",
   "execution_count": 26,
   "metadata": {},
   "outputs": [],
   "source": [
    "def find_similar_rating(list_names):\n",
    "    for i in list_names:\n",
    "        dummy_data =  ing_data_similarity[ing_data_similarity['ingredient1_name'] == i]\n",
    "        dummy_data.sort_values(inplace = True,by =['similarity_rank']) \n",
    "        for j,i in enumerate(dummy_data['ingredient2_name'].unique()):\n",
    "            print (\"             \", i)\n",
    "            if j == 2:\n",
    "                break"
   ]
  },
  {
   "cell_type": "code",
   "execution_count": 27,
   "metadata": {},
   "outputs": [
    {
     "data": {
      "text/plain": [
       "'winter squash mexican seasoning mixed spice honey butter olive oil salt'"
      ]
     },
     "execution_count": 27,
     "metadata": {},
     "output_type": "execute_result"
    }
   ],
   "source": [
    "ing_data_similarity['ingredient1_name'][0]"
   ]
  },
  {
   "cell_type": "code",
   "execution_count": 28,
   "metadata": {},
   "outputs": [
    {
     "data": {
      "text/html": [
       "<div>\n",
       "<style scoped>\n",
       "    .dataframe tbody tr th:only-of-type {\n",
       "        vertical-align: middle;\n",
       "    }\n",
       "\n",
       "    .dataframe tbody tr th {\n",
       "        vertical-align: top;\n",
       "    }\n",
       "\n",
       "    .dataframe thead th {\n",
       "        text-align: right;\n",
       "    }\n",
       "</style>\n",
       "<table border=\"1\" class=\"dataframe\">\n",
       "  <thead>\n",
       "    <tr style=\"text-align: right;\">\n",
       "      <th></th>\n",
       "      <th>index</th>\n",
       "      <th>ingredient1</th>\n",
       "      <th>ingredient2</th>\n",
       "      <th>cosine_similarity</th>\n",
       "      <th>ingredient1_name</th>\n",
       "      <th>ingredient2_name</th>\n",
       "      <th>similarity_rank</th>\n",
       "    </tr>\n",
       "  </thead>\n",
       "  <tbody>\n",
       "    <tr>\n",
       "      <th>0</th>\n",
       "      <td>6208</td>\n",
       "      <td>0</td>\n",
       "      <td>6208</td>\n",
       "      <td>0.814927</td>\n",
       "      <td>winter squash mexican seasoning mixed spice ho...</td>\n",
       "      <td>butternut squash italian turkey sausage granny...</td>\n",
       "      <td>1.0</td>\n",
       "    </tr>\n",
       "    <tr>\n",
       "      <th>1</th>\n",
       "      <td>11887</td>\n",
       "      <td>1</td>\n",
       "      <td>1887</td>\n",
       "      <td>0.845011</td>\n",
       "      <td>prepared pizza crust sausage patty eggs milk s...</td>\n",
       "      <td>sausage onion flour italian seasoning salt pep...</td>\n",
       "      <td>1.0</td>\n",
       "    </tr>\n",
       "    <tr>\n",
       "      <th>2</th>\n",
       "      <td>22002</td>\n",
       "      <td>2</td>\n",
       "      <td>2002</td>\n",
       "      <td>0.931831</td>\n",
       "      <td>ground beef yellow onions diced tomatoes tomat...</td>\n",
       "      <td>lean ground beef instant minced onion chili po...</td>\n",
       "      <td>1.0</td>\n",
       "    </tr>\n",
       "    <tr>\n",
       "      <th>3</th>\n",
       "      <td>38974</td>\n",
       "      <td>3</td>\n",
       "      <td>8974</td>\n",
       "      <td>0.898327</td>\n",
       "      <td>spreadable cheese with garlic and herbs new po...</td>\n",
       "      <td>olive oil red onion garlic cloves vermouth sal...</td>\n",
       "      <td>1.0</td>\n",
       "    </tr>\n",
       "    <tr>\n",
       "      <th>4</th>\n",
       "      <td>46848</td>\n",
       "      <td>4</td>\n",
       "      <td>6848</td>\n",
       "      <td>0.946639</td>\n",
       "      <td>tomato juice apple cider vinegar sugar salt pe...</td>\n",
       "      <td>oil apple cider vinegar apple juice liquid hon...</td>\n",
       "      <td>1.0</td>\n",
       "    </tr>\n",
       "    <tr>\n",
       "      <th>5</th>\n",
       "      <td>56568</td>\n",
       "      <td>5</td>\n",
       "      <td>6568</td>\n",
       "      <td>0.946173</td>\n",
       "      <td>milk vanilla ice cream frozen apple juice conc...</td>\n",
       "      <td>apple apple juice milk sugar cinnamon ice vani...</td>\n",
       "      <td>1.0</td>\n",
       "    </tr>\n",
       "    <tr>\n",
       "      <th>6</th>\n",
       "      <td>68748</td>\n",
       "      <td>6</td>\n",
       "      <td>8748</td>\n",
       "      <td>0.902012</td>\n",
       "      <td>fennel seeds green olives ripe olives garlic p...</td>\n",
       "      <td>artichoke hearts extra virgin olive oil fresh ...</td>\n",
       "      <td>1.0</td>\n",
       "    </tr>\n",
       "    <tr>\n",
       "      <th>7</th>\n",
       "      <td>79310</td>\n",
       "      <td>7</td>\n",
       "      <td>9310</td>\n",
       "      <td>0.932089</td>\n",
       "      <td>pork spareribs soy sauce fresh garlic fresh gi...</td>\n",
       "      <td>pork shoulder black pepper salt yellow onion w...</td>\n",
       "      <td>1.0</td>\n",
       "    </tr>\n",
       "    <tr>\n",
       "      <th>8</th>\n",
       "      <td>81431</td>\n",
       "      <td>8</td>\n",
       "      <td>1431</td>\n",
       "      <td>0.910682</td>\n",
       "      <td>chocolate sandwich style cookies chocolate syr...</td>\n",
       "      <td>chocolate sandwich style cookies butter cream ...</td>\n",
       "      <td>1.0</td>\n",
       "    </tr>\n",
       "    <tr>\n",
       "      <th>9</th>\n",
       "      <td>92120</td>\n",
       "      <td>9</td>\n",
       "      <td>2120</td>\n",
       "      <td>0.936069</td>\n",
       "      <td>sugar unsalted butter bananas eggs fresh lemon...</td>\n",
       "      <td>bananas lemon juice cake flour baking powder s...</td>\n",
       "      <td>1.0</td>\n",
       "    </tr>\n",
       "  </tbody>\n",
       "</table>\n",
       "</div>"
      ],
      "text/plain": [
       "   index  ingredient1  ingredient2  cosine_similarity  \\\n",
       "0   6208            0         6208           0.814927   \n",
       "1  11887            1         1887           0.845011   \n",
       "2  22002            2         2002           0.931831   \n",
       "3  38974            3         8974           0.898327   \n",
       "4  46848            4         6848           0.946639   \n",
       "5  56568            5         6568           0.946173   \n",
       "6  68748            6         8748           0.902012   \n",
       "7  79310            7         9310           0.932089   \n",
       "8  81431            8         1431           0.910682   \n",
       "9  92120            9         2120           0.936069   \n",
       "\n",
       "                                    ingredient1_name  \\\n",
       "0  winter squash mexican seasoning mixed spice ho...   \n",
       "1  prepared pizza crust sausage patty eggs milk s...   \n",
       "2  ground beef yellow onions diced tomatoes tomat...   \n",
       "3  spreadable cheese with garlic and herbs new po...   \n",
       "4  tomato juice apple cider vinegar sugar salt pe...   \n",
       "5  milk vanilla ice cream frozen apple juice conc...   \n",
       "6  fennel seeds green olives ripe olives garlic p...   \n",
       "7  pork spareribs soy sauce fresh garlic fresh gi...   \n",
       "8  chocolate sandwich style cookies chocolate syr...   \n",
       "9  sugar unsalted butter bananas eggs fresh lemon...   \n",
       "\n",
       "                                    ingredient2_name  similarity_rank  \n",
       "0  butternut squash italian turkey sausage granny...              1.0  \n",
       "1  sausage onion flour italian seasoning salt pep...              1.0  \n",
       "2  lean ground beef instant minced onion chili po...              1.0  \n",
       "3  olive oil red onion garlic cloves vermouth sal...              1.0  \n",
       "4  oil apple cider vinegar apple juice liquid hon...              1.0  \n",
       "5  apple apple juice milk sugar cinnamon ice vani...              1.0  \n",
       "6  artichoke hearts extra virgin olive oil fresh ...              1.0  \n",
       "7  pork shoulder black pepper salt yellow onion w...              1.0  \n",
       "8  chocolate sandwich style cookies butter cream ...              1.0  \n",
       "9  bananas lemon juice cake flour baking powder s...              1.0  "
      ]
     },
     "execution_count": 28,
     "metadata": {},
     "output_type": "execute_result"
    }
   ],
   "source": [
    "ing_data_similarity.head(10)"
   ]
  },
  {
   "cell_type": "code",
   "execution_count": 29,
   "metadata": {},
   "outputs": [
    {
     "data": {
      "text/plain": [
       "0        butternut squash italian turkey sausage granny...\n",
       "1        sausage onion flour italian seasoning salt pep...\n",
       "2        lean ground beef instant minced onion chili po...\n",
       "3        olive oil red onion garlic cloves vermouth sal...\n",
       "4        oil apple cider vinegar apple juice liquid hon...\n",
       "                               ...                        \n",
       "10005    asparagus butter dijon mustard fresh lemon jui...\n",
       "10006    plain nonfat yogurt light mayonnaise orange ju...\n",
       "10007    asparagus spears shallots butter salt pepper c...\n",
       "10008    asparagus extra virgin olive oil lemon zest sa...\n",
       "10009    plain nonfat yogurt light mayonnaise orange ju...\n",
       "Name: ingredient2_name, Length: 10010, dtype: object"
      ]
     },
     "execution_count": 29,
     "metadata": {},
     "output_type": "execute_result"
    }
   ],
   "source": [
    "ing_data_similarity['ingredient2_name']"
   ]
  },
  {
   "cell_type": "code",
   "execution_count": 30,
   "metadata": {},
   "outputs": [],
   "source": [
    "new1=ing_data_similarity[['ingredient2_name']]\n",
    "new2=filter_recipe[['user_id_nunique','recipe_id',\"rating_mean\", \"ingredients\"]]\n",
    "new3=ing_data_similarity[['ingredient1_name']]\n",
    "filter_result = pd.merge(new1,new2,right_on = ['ingredients'],left_on = [\"ingredient2_name\"],how = 'left')\n",
    "filter_result1 = pd.merge(new3,new2,right_on = ['ingredients'],left_on = [\"ingredient1_name\"],how = 'left')"
   ]
  },
  {
   "cell_type": "code",
   "execution_count": 31,
   "metadata": {
    "execution": {
     "iopub.execute_input": "2022-11-22T06:17:16.557917Z",
     "iopub.status.busy": "2022-11-22T06:17:16.557518Z",
     "iopub.status.idle": "2022-11-22T06:17:16.615701Z",
     "shell.execute_reply": "2022-11-22T06:17:16.614727Z",
     "shell.execute_reply.started": "2022-11-22T06:17:16.557883Z"
    }
   },
   "outputs": [],
   "source": [
    "G1 = nx.from_pandas_edgelist(ing_data_similarity,'ingredient1_name','ingredient2_name')"
   ]
  },
  {
   "cell_type": "code",
   "execution_count": 32,
   "metadata": {},
   "outputs": [],
   "source": [
    "filter_result.rename(columns={'rating_mean': 'predicted_rating'}, inplace=True)\n",
    "filter_result1.rename(columns={'rating_mean': 'original_rating','user_id_nunique':'user_id'}, inplace=True)"
   ]
  },
  {
   "cell_type": "code",
   "execution_count": 33,
   "metadata": {},
   "outputs": [],
   "source": [
    "#filter_result\n",
    "#filter_result1.head(10)\n",
    "del filter_result1['ingredients']\n",
    "del filter_result['ingredients']\n",
    "del filter_result['user_id_nunique']\n",
    "del filter_result['recipe_id']\n"
   ]
  },
  {
   "cell_type": "code",
   "execution_count": 34,
   "metadata": {},
   "outputs": [],
   "source": [
    "filter_result1['predicted_rating'] = pd.Series(filter_result['predicted_rating'])"
   ]
  },
  {
   "cell_type": "code",
   "execution_count": 35,
   "metadata": {},
   "outputs": [],
   "source": [
    "filter_result1=filter_result1.dropna()\n",
    "filter_result1['predicted_rating'] = filter_result1['predicted_rating'].apply(lambda x: round(x, 2))\n",
    "filter_result1['original_rating'] = filter_result1['original_rating'].apply(lambda x: round(x, 2))"
   ]
  },
  {
   "cell_type": "code",
   "execution_count": 37,
   "metadata": {},
   "outputs": [],
   "source": [
    "del filter_result1['ingredient1_name']"
   ]
  },
  {
   "cell_type": "code",
   "execution_count": 40,
   "metadata": {},
   "outputs": [
    {
     "name": "stdout",
     "output_type": "stream",
     "text": [
      "Root Mean Square Error:\n",
      "\n",
      "0.8976359554171788\n"
     ]
    }
   ],
   "source": [
    "import math\n",
    "MSE = np.square(np.subtract(filter_result1['original_rating'],filter_result1['predicted_rating'])).mean() \n",
    " \n",
    "RMSE = math.sqrt(MSE)\n",
    "print(\"Root Mean Square Error:\\n\")\n",
    "print(RMSE)"
   ]
  },
  {
   "cell_type": "code",
   "execution_count": 38,
   "metadata": {},
   "outputs": [
    {
     "data": {
      "text/html": [
       "<div>\n",
       "<style scoped>\n",
       "    .dataframe tbody tr th:only-of-type {\n",
       "        vertical-align: middle;\n",
       "    }\n",
       "\n",
       "    .dataframe tbody tr th {\n",
       "        vertical-align: top;\n",
       "    }\n",
       "\n",
       "    .dataframe thead th {\n",
       "        text-align: right;\n",
       "    }\n",
       "</style>\n",
       "<table border=\"1\" class=\"dataframe\">\n",
       "  <thead>\n",
       "    <tr style=\"text-align: right;\">\n",
       "      <th></th>\n",
       "      <th>user_id</th>\n",
       "      <th>recipe_id</th>\n",
       "      <th>original_rating</th>\n",
       "      <th>predicted_rating</th>\n",
       "    </tr>\n",
       "  </thead>\n",
       "  <tbody>\n",
       "    <tr>\n",
       "      <th>0</th>\n",
       "      <td>3</td>\n",
       "      <td>137739</td>\n",
       "      <td>5.00</td>\n",
       "      <td>4.57</td>\n",
       "    </tr>\n",
       "    <tr>\n",
       "      <th>1</th>\n",
       "      <td>4</td>\n",
       "      <td>31490</td>\n",
       "      <td>3.50</td>\n",
       "      <td>3.77</td>\n",
       "    </tr>\n",
       "    <tr>\n",
       "      <th>2</th>\n",
       "      <td>5</td>\n",
       "      <td>75452</td>\n",
       "      <td>4.40</td>\n",
       "      <td>5.00</td>\n",
       "    </tr>\n",
       "    <tr>\n",
       "      <th>3</th>\n",
       "      <td>5</td>\n",
       "      <td>42198</td>\n",
       "      <td>3.80</td>\n",
       "      <td>2.67</td>\n",
       "    </tr>\n",
       "    <tr>\n",
       "      <th>4</th>\n",
       "      <td>10</td>\n",
       "      <td>67547</td>\n",
       "      <td>3.90</td>\n",
       "      <td>4.67</td>\n",
       "    </tr>\n",
       "    <tr>\n",
       "      <th>...</th>\n",
       "      <td>...</td>\n",
       "      <td>...</td>\n",
       "      <td>...</td>\n",
       "      <td>...</td>\n",
       "    </tr>\n",
       "    <tr>\n",
       "      <th>10045</th>\n",
       "      <td>4</td>\n",
       "      <td>48584</td>\n",
       "      <td>4.00</td>\n",
       "      <td>3.86</td>\n",
       "    </tr>\n",
       "    <tr>\n",
       "      <th>10046</th>\n",
       "      <td>6</td>\n",
       "      <td>280954</td>\n",
       "      <td>5.00</td>\n",
       "      <td>4.75</td>\n",
       "    </tr>\n",
       "    <tr>\n",
       "      <th>10047</th>\n",
       "      <td>9</td>\n",
       "      <td>340196</td>\n",
       "      <td>5.00</td>\n",
       "      <td>5.00</td>\n",
       "    </tr>\n",
       "    <tr>\n",
       "      <th>10048</th>\n",
       "      <td>5</td>\n",
       "      <td>256276</td>\n",
       "      <td>4.80</td>\n",
       "      <td>5.00</td>\n",
       "    </tr>\n",
       "    <tr>\n",
       "      <th>10049</th>\n",
       "      <td>37</td>\n",
       "      <td>267283</td>\n",
       "      <td>4.78</td>\n",
       "      <td>4.75</td>\n",
       "    </tr>\n",
       "  </tbody>\n",
       "</table>\n",
       "<p>10050 rows × 4 columns</p>\n",
       "</div>"
      ],
      "text/plain": [
       "       user_id  recipe_id  original_rating  predicted_rating\n",
       "0            3     137739             5.00              4.57\n",
       "1            4      31490             3.50              3.77\n",
       "2            5      75452             4.40              5.00\n",
       "3            5      42198             3.80              2.67\n",
       "4           10      67547             3.90              4.67\n",
       "...        ...        ...              ...               ...\n",
       "10045        4      48584             4.00              3.86\n",
       "10046        6     280954             5.00              4.75\n",
       "10047        9     340196             5.00              5.00\n",
       "10048        5     256276             4.80              5.00\n",
       "10049       37     267283             4.78              4.75\n",
       "\n",
       "[10050 rows x 4 columns]"
      ]
     },
     "execution_count": 38,
     "metadata": {},
     "output_type": "execute_result"
    }
   ],
   "source": [
    "filter_result1"
   ]
  },
  {
   "cell_type": "code",
   "execution_count": null,
   "metadata": {},
   "outputs": [],
   "source": [
    "filter_result1.to_csv('rating_prediction_ingredient_similarity.csv')"
   ]
  },
  {
   "cell_type": "code",
   "execution_count": 42,
   "metadata": {},
   "outputs": [],
   "source": [
    "G1 = nx.from_pandas_edgelist(ing_data_similarity,'ingredient1_name','ingredient2_name')"
   ]
  },
  {
   "cell_type": "code",
   "execution_count": null,
   "metadata": {
    "execution": {
     "iopub.execute_input": "2022-11-22T06:18:25.302101Z",
     "iopub.status.busy": "2022-11-22T06:18:25.301723Z",
     "iopub.status.idle": "2022-11-22T06:19:23.853099Z",
     "shell.execute_reply": "2022-11-22T06:19:23.851895Z",
     "shell.execute_reply.started": "2022-11-22T06:18:25.302064Z"
    }
   },
   "outputs": [],
   "source": [
    "data_sample = ing_data_similarity\n",
    "import matplotlib.pyplot as plt\n",
    "import networkx as nx\n",
    "plt.figure(figsize=(200,200))\n",
    "plt.rcParams['axes.facecolor'] ='white'\n",
    "G1 = nx.Graph()\n",
    "for i in range(0,5000):\n",
    "    G1.add_edge(data_sample['ingredient1_name'][i], data_sample['ingredient2_name'][i], weight=data_sample['cosine_similarity'][i])\n",
    "\n",
    "elarge = [(u, v) for (u, v, d) in G1.edges(data=True) if d['weight'] > 0.8]\n",
    "\n",
    "\n",
    "pos = nx.spring_layout(G1)  # positions for all nodes\n",
    "\n",
    "\n",
    "nx.draw_networkx_nodes(G1, pos, node_size=50)\n",
    "\n",
    "\n",
    "nx.draw_networkx_edges(G1, pos, edgelist=elarge,     width=5)\n",
    "\n",
    "\n",
    "nx.draw_networkx_labels(G1, pos, font_size=10, font_family='sans-serif')\n",
    "#plt.savefig(\"Network.pdf\", bbox_inches='tight')\n",
    "plt.axis('off')\n",
    "plt.show()"
   ]
  },
  {
   "cell_type": "code",
   "execution_count": null,
   "metadata": {},
   "outputs": [],
   "source": []
  }
 ],
 "metadata": {
  "kernelspec": {
   "display_name": "Python 3 (ipykernel)",
   "language": "python",
   "name": "python3"
  },
  "language_info": {
   "codemirror_mode": {
    "name": "ipython",
    "version": 3
   },
   "file_extension": ".py",
   "mimetype": "text/x-python",
   "name": "python",
   "nbconvert_exporter": "python",
   "pygments_lexer": "ipython3",
   "version": "3.8.8"
  }
 },
 "nbformat": 4,
 "nbformat_minor": 4
}
