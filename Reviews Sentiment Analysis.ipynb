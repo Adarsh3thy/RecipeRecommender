{
 "cells": [
  {
   "cell_type": "markdown",
   "metadata": {},
   "source": [
    "<h1> Pre-processing Reviews and Rating <h1>"
   ]
  },
  {
   "cell_type": "markdown",
   "metadata": {},
   "source": [
    "<h3> Import libraries</h3>"
   ]
  },
  {
   "cell_type": "code",
   "execution_count": 1,
   "metadata": {},
   "outputs": [],
   "source": [
    "\n",
    "import nltk\n",
    "\n",
    "import numpy as np\n",
    "import pandas as pd\n",
    "import glob, csv\n",
    "import re\n",
    "import string\n",
    "import seaborn as sns\n",
    "from nltk.stem import WordNetLemmatizer\n",
    "from sklearn import preprocessing\n",
    "from sklearn.feature_extraction.text import ENGLISH_STOP_WORDS\n",
    "from nltk.corpus import stopwords\n",
    "import time\n",
    "from nltk.tag import pos_tag\n",
    "from nltk.corpus import wordnet\n",
    "from nltk.corpus.reader.wordnet import VERB, NOUN, ADJ, ADV\n",
    "from nltk.stem.wordnet import WordNetLemmatizer\n",
    "from collections import Counter\n",
    "from sklearn.feature_extraction.text import ENGLISH_STOP_WORDS\n",
    "from nltk.tokenize import word_tokenize\n",
    "from string import punctuation\n",
    "from string import digits\n",
    "import matplotlib.pyplot as plt\n",
    "from wordcloud import WordCloud\n",
    "import matplotlib.pyplot as plt\n",
    "from sklearn.feature_extraction.text import CountVectorizer\n",
    "from sklearn.feature_extraction.text import TfidfVectorizer\n",
    "from sklearn.metrics.pairwise import cosine_similarity\n",
    "from sklearn.model_selection import GridSearchCV,train_test_split,RepeatedStratifiedKFold\n",
    "from sklearn.preprocessing import PowerTransformer\n",
    "%matplotlib inline\n",
    "import seaborn as sns\n",
    "from sklearn import metrics\n",
    "from sklearn.linear_model import LogisticRegression\n",
    "from sklearn.metrics import confusion_matrix,classification_report\n",
    "from textblob import TextBlob \n",
    "from textblob import Word\n",
    "from sklearn import svm\n",
    "from sklearn.neighbors import KNeighborsClassifier \n",
    "from sklearn.ensemble import RandomForestClassifier\n",
    "from sklearn.naive_bayes import GaussianNB, MultinomialNB\n",
    "from sklearn.metrics import classification_report, confusion_matrix, accuracy_score\n",
    "from sklearn.metrics import accuracy_score, f1_score, precision_score, recall_score, classification_report, confusion_matrix"
   ]
  },
  {
   "cell_type": "markdown",
   "metadata": {},
   "source": [
    "<h3> Load dataset into dataframes </h3>"
   ]
  },
  {
   "cell_type": "code",
   "execution_count": 2,
   "metadata": {},
   "outputs": [
    {
     "data": {
      "text/plain": [
       "(1132367, 4)"
      ]
     },
     "execution_count": 2,
     "metadata": {},
     "output_type": "execute_result"
    }
   ],
   "source": [
    "raw_interactions  = pd.read_csv('RAW_interactions.csv',index_col=0)# read csv into ratings_df dataframe\n",
    "raw_interactions.shape"
   ]
  },
  {
   "cell_type": "code",
   "execution_count": 3,
   "metadata": {},
   "outputs": [
    {
     "data": {
      "text/html": [
       "<div>\n",
       "<style scoped>\n",
       "    .dataframe tbody tr th:only-of-type {\n",
       "        vertical-align: middle;\n",
       "    }\n",
       "\n",
       "    .dataframe tbody tr th {\n",
       "        vertical-align: top;\n",
       "    }\n",
       "\n",
       "    .dataframe thead th {\n",
       "        text-align: right;\n",
       "    }\n",
       "</style>\n",
       "<table border=\"1\" class=\"dataframe\">\n",
       "  <thead>\n",
       "    <tr style=\"text-align: right;\">\n",
       "      <th></th>\n",
       "      <th>recipe_id</th>\n",
       "      <th>date</th>\n",
       "      <th>rating</th>\n",
       "      <th>u</th>\n",
       "      <th>i</th>\n",
       "    </tr>\n",
       "    <tr>\n",
       "      <th>user_id</th>\n",
       "      <th></th>\n",
       "      <th></th>\n",
       "      <th></th>\n",
       "      <th></th>\n",
       "      <th></th>\n",
       "    </tr>\n",
       "  </thead>\n",
       "  <tbody>\n",
       "    <tr>\n",
       "      <th>2046</th>\n",
       "      <td>4684</td>\n",
       "      <td>2000-02-25</td>\n",
       "      <td>5.0</td>\n",
       "      <td>22095</td>\n",
       "      <td>44367</td>\n",
       "    </tr>\n",
       "    <tr>\n",
       "      <th>2046</th>\n",
       "      <td>517</td>\n",
       "      <td>2000-02-25</td>\n",
       "      <td>5.0</td>\n",
       "      <td>22095</td>\n",
       "      <td>87844</td>\n",
       "    </tr>\n",
       "    <tr>\n",
       "      <th>1773</th>\n",
       "      <td>7435</td>\n",
       "      <td>2000-03-13</td>\n",
       "      <td>5.0</td>\n",
       "      <td>24732</td>\n",
       "      <td>138181</td>\n",
       "    </tr>\n",
       "    <tr>\n",
       "      <th>1773</th>\n",
       "      <td>278</td>\n",
       "      <td>2000-03-13</td>\n",
       "      <td>4.0</td>\n",
       "      <td>24732</td>\n",
       "      <td>93054</td>\n",
       "    </tr>\n",
       "    <tr>\n",
       "      <th>2046</th>\n",
       "      <td>3431</td>\n",
       "      <td>2000-04-07</td>\n",
       "      <td>5.0</td>\n",
       "      <td>22095</td>\n",
       "      <td>101723</td>\n",
       "    </tr>\n",
       "  </tbody>\n",
       "</table>\n",
       "</div>"
      ],
      "text/plain": [
       "         recipe_id        date  rating      u       i\n",
       "user_id                                              \n",
       "2046          4684  2000-02-25     5.0  22095   44367\n",
       "2046           517  2000-02-25     5.0  22095   87844\n",
       "1773          7435  2000-03-13     5.0  24732  138181\n",
       "1773           278  2000-03-13     4.0  24732   93054\n",
       "2046          3431  2000-04-07     5.0  22095  101723"
      ]
     },
     "execution_count": 3,
     "metadata": {},
     "output_type": "execute_result"
    }
   ],
   "source": [
    "interactions_train=pd.read_csv('interactions_train.csv',index_col=0)\n",
    "interactions_train.shape\n",
    "interactions_train.head()"
   ]
  },
  {
   "cell_type": "code",
   "execution_count": 4,
   "metadata": {},
   "outputs": [
    {
     "data": {
      "text/html": [
       "<div>\n",
       "<style scoped>\n",
       "    .dataframe tbody tr th:only-of-type {\n",
       "        vertical-align: middle;\n",
       "    }\n",
       "\n",
       "    .dataframe tbody tr th {\n",
       "        vertical-align: top;\n",
       "    }\n",
       "\n",
       "    .dataframe thead th {\n",
       "        text-align: right;\n",
       "    }\n",
       "</style>\n",
       "<table border=\"1\" class=\"dataframe\">\n",
       "  <thead>\n",
       "    <tr style=\"text-align: right;\">\n",
       "      <th></th>\n",
       "      <th>recipe_id</th>\n",
       "      <th>date</th>\n",
       "      <th>rating</th>\n",
       "      <th>u</th>\n",
       "      <th>i</th>\n",
       "    </tr>\n",
       "    <tr>\n",
       "      <th>user_id</th>\n",
       "      <th></th>\n",
       "      <th></th>\n",
       "      <th></th>\n",
       "      <th></th>\n",
       "      <th></th>\n",
       "    </tr>\n",
       "  </thead>\n",
       "  <tbody>\n",
       "    <tr>\n",
       "      <th>8937</th>\n",
       "      <td>44551</td>\n",
       "      <td>2005-12-23</td>\n",
       "      <td>4.0</td>\n",
       "      <td>2</td>\n",
       "      <td>173538</td>\n",
       "    </tr>\n",
       "    <tr>\n",
       "      <th>56680</th>\n",
       "      <td>126118</td>\n",
       "      <td>2006-10-07</td>\n",
       "      <td>4.0</td>\n",
       "      <td>16</td>\n",
       "      <td>177847</td>\n",
       "    </tr>\n",
       "    <tr>\n",
       "      <th>349752</th>\n",
       "      <td>219596</td>\n",
       "      <td>2008-04-12</td>\n",
       "      <td>0.0</td>\n",
       "      <td>26</td>\n",
       "      <td>89896</td>\n",
       "    </tr>\n",
       "    <tr>\n",
       "      <th>628951</th>\n",
       "      <td>82783</td>\n",
       "      <td>2007-11-13</td>\n",
       "      <td>2.0</td>\n",
       "      <td>45</td>\n",
       "      <td>172637</td>\n",
       "    </tr>\n",
       "    <tr>\n",
       "      <th>92816</th>\n",
       "      <td>435013</td>\n",
       "      <td>2013-07-31</td>\n",
       "      <td>3.0</td>\n",
       "      <td>52</td>\n",
       "      <td>177935</td>\n",
       "    </tr>\n",
       "  </tbody>\n",
       "</table>\n",
       "</div>"
      ],
      "text/plain": [
       "         recipe_id        date  rating   u       i\n",
       "user_id                                           \n",
       "8937         44551  2005-12-23     4.0   2  173538\n",
       "56680       126118  2006-10-07     4.0  16  177847\n",
       "349752      219596  2008-04-12     0.0  26   89896\n",
       "628951       82783  2007-11-13     2.0  45  172637\n",
       "92816       435013  2013-07-31     3.0  52  177935"
      ]
     },
     "execution_count": 4,
     "metadata": {},
     "output_type": "execute_result"
    }
   ],
   "source": [
    "interactions_test=pd.read_csv('interactions_test.csv',index_col=0)\n",
    "interactions_test.shape\n",
    "interactions_test.head()"
   ]
  },
  {
   "cell_type": "code",
   "execution_count": 10,
   "metadata": {},
   "outputs": [
    {
     "data": {
      "text/plain": [
       "(711356, 5)"
      ]
     },
     "execution_count": 10,
     "metadata": {},
     "output_type": "execute_result"
    }
   ],
   "source": [
    "frames = [interactions_train, interactions_test]\n",
    "interactions_comb=pd.concat(frames)\n",
    "interactions_comb.shape"
   ]
  },
  {
   "cell_type": "markdown",
   "metadata": {},
   "source": [
    "<h3> Analyze dataset </h3>"
   ]
  },
  {
   "cell_type": "markdown",
   "metadata": {},
   "source": [
    "Let's see a bar chart of the rating distribution <br/>\n",
    "<b> Training set distribution </b>"
   ]
  },
  {
   "cell_type": "code",
   "execution_count": 11,
   "metadata": {},
   "outputs": [
    {
     "data": {
      "text/plain": [
       "<AxesSubplot:ylabel='rating'>"
      ]
     },
     "execution_count": 11,
     "metadata": {},
     "output_type": "execute_result"
    },
    {
     "data": {
      "image/png": "[encoded data removed]",
      "text/plain": [
       "<Figure size 432x288 with 1 Axes>"
      ]
     },
     "metadata": {
      "needs_background": "light"
     },
     "output_type": "display_data"
    }
   ],
   "source": [
    "\n",
    "sns.barplot(x=interactions_comb.rating.value_counts().index, y=interactions_comb.rating.value_counts())"
   ]
  },
  {
   "cell_type": "markdown",
   "metadata": {},
   "source": [
    "Let us take a closer look at reviews with rating 0"
   ]
  },
  {
   "cell_type": "code",
   "execution_count": 7,
   "metadata": {},
   "outputs": [
    {
     "data": {
      "text/html": [
       "<div>\n",
       "<style scoped>\n",
       "    .dataframe tbody tr th:only-of-type {\n",
       "        vertical-align: middle;\n",
       "    }\n",
       "\n",
       "    .dataframe tbody tr th {\n",
       "        vertical-align: top;\n",
       "    }\n",
       "\n",
       "    .dataframe thead th {\n",
       "        text-align: right;\n",
       "    }\n",
       "</style>\n",
       "<table border=\"1\" class=\"dataframe\">\n",
       "  <thead>\n",
       "    <tr style=\"text-align: right;\">\n",
       "      <th></th>\n",
       "      <th>recipe_id</th>\n",
       "      <th>date</th>\n",
       "      <th>rating</th>\n",
       "      <th>review</th>\n",
       "    </tr>\n",
       "    <tr>\n",
       "      <th>user_id</th>\n",
       "      <th></th>\n",
       "      <th></th>\n",
       "      <th></th>\n",
       "      <th></th>\n",
       "    </tr>\n",
       "  </thead>\n",
       "  <tbody>\n",
       "    <tr>\n",
       "      <th>124416</th>\n",
       "      <td>120345</td>\n",
       "      <td>2011-08-06</td>\n",
       "      <td>0</td>\n",
       "      <td>Just an observation, so I will not rate.  I fo...</td>\n",
       "    </tr>\n",
       "    <tr>\n",
       "      <th>468945</th>\n",
       "      <td>134728</td>\n",
       "      <td>2008-02-20</td>\n",
       "      <td>0</td>\n",
       "      <td>Made my own buttermilk w/ vinegar and milk.  U...</td>\n",
       "    </tr>\n",
       "    <tr>\n",
       "      <th>681408</th>\n",
       "      <td>225241</td>\n",
       "      <td>2008-03-14</td>\n",
       "      <td>0</td>\n",
       "      <td>This is a very good recipe.  We also want to c...</td>\n",
       "    </tr>\n",
       "    <tr>\n",
       "      <th>2002068522</th>\n",
       "      <td>29093</td>\n",
       "      <td>2018-03-26</td>\n",
       "      <td>0</td>\n",
       "      <td>i made it and it was amazing</td>\n",
       "    </tr>\n",
       "    <tr>\n",
       "      <th>980899</th>\n",
       "      <td>79222</td>\n",
       "      <td>2010-10-18</td>\n",
       "      <td>0</td>\n",
       "      <td>I used half cream and half 1% milk, added anot...</td>\n",
       "    </tr>\n",
       "    <tr>\n",
       "      <th>1874846</th>\n",
       "      <td>79222</td>\n",
       "      <td>2011-04-04</td>\n",
       "      <td>0</td>\n",
       "      <td>FABULOUS!&lt;br/&gt;&lt;br/&gt;I could not afford any of t...</td>\n",
       "    </tr>\n",
       "    <tr>\n",
       "      <th>1802697284</th>\n",
       "      <td>79222</td>\n",
       "      <td>2014-11-16</td>\n",
       "      <td>0</td>\n",
       "      <td>Awesome chowder! I used both canned and imitat...</td>\n",
       "    </tr>\n",
       "  </tbody>\n",
       "</table>\n",
       "</div>"
      ],
      "text/plain": [
       "            recipe_id        date  rating  \\\n",
       "user_id                                     \n",
       "124416         120345  2011-08-06       0   \n",
       "468945         134728  2008-02-20       0   \n",
       "681408         225241  2008-03-14       0   \n",
       "2002068522      29093  2018-03-26       0   \n",
       "980899          79222  2010-10-18       0   \n",
       "1874846         79222  2011-04-04       0   \n",
       "1802697284      79222  2014-11-16       0   \n",
       "\n",
       "                                                       review  \n",
       "user_id                                                        \n",
       "124416      Just an observation, so I will not rate.  I fo...  \n",
       "468945      Made my own buttermilk w/ vinegar and milk.  U...  \n",
       "681408      This is a very good recipe.  We also want to c...  \n",
       "2002068522                       i made it and it was amazing  \n",
       "980899      I used half cream and half 1% milk, added anot...  \n",
       "1874846     FABULOUS!<br/><br/>I could not afford any of t...  \n",
       "1802697284  Awesome chowder! I used both canned and imitat...  "
      ]
     },
     "execution_count": 7,
     "metadata": {},
     "output_type": "execute_result"
    }
   ],
   "source": [
    "raw_interactions.loc[raw_interactions['rating'] == 0].head(7)"
   ]
  },
  {
   "cell_type": "markdown",
   "metadata": {},
   "source": [
    "The reviews seem to be positive, but why are the rated 0. Let's build a word cloud and see the top words in the reviews with 0 rating"
   ]
  },
  {
   "cell_type": "code",
   "execution_count": 8,
   "metadata": {},
   "outputs": [
    {
     "data": {
      "image/png": "[encoded data removed]",
      "text/plain": [
       "<Figure size 432x288 with 1 Axes>"
      ]
     },
     "metadata": {
      "needs_background": "light"
     },
     "output_type": "display_data"
    }
   ],
   "source": [
    "raw_zero_ratings=raw_interactions.loc[raw_interactions['rating'] == 0]\n",
    "txt = ' '.join(review for review in raw_zero_ratings.review)\n",
    "\n",
    "wordcloud = WordCloud(\n",
    "            background_color = 'white',\n",
    "            max_font_size = 100,\n",
    "            max_words = 100,\n",
    "            width = 800,\n",
    "            height = 500\n",
    "            ).generate(txt)\n",
    "\n",
    "\n",
    "plt.imshow(wordcloud,interpolation = 'bilinear')\n",
    "plt.axis('off')\n",
    "plt.show()"
   ]
  },
  {
   "cell_type": "markdown",
   "metadata": {},
   "source": [
    "<b> From the wordcloud its clear that reviews with 0 ratings are reviews with missing ratings</b><br/>\n",
    "    Therefore, we will build a multi-classification model to predict the missing ratings.\n",
    "    The reviews with ratings other than 0 will be used as training set to predict ratings for reviews with 0 rating."
   ]
  },
  {
   "cell_type": "markdown",
   "metadata": {},
   "source": [
    "<h3> Creating Training and Validation set </h3>"
   ]
  },
  {
   "cell_type": "markdown",
   "metadata": {},
   "source": [
    "The complete dataset has 1132367 records. We will only take a sample of 20000 records to determine the best classification model. Later, we will train the best model on the whole dataset. We will use <b> GridSearch CV </b> for hyper parameter tuning."
   ]
  },
  {
   "cell_type": "code",
   "execution_count": 10,
   "metadata": {},
   "outputs": [
    {
     "data": {
      "text/html": [
       "<div>\n",
       "<style scoped>\n",
       "    .dataframe tbody tr th:only-of-type {\n",
       "        vertical-align: middle;\n",
       "    }\n",
       "\n",
       "    .dataframe tbody tr th {\n",
       "        vertical-align: top;\n",
       "    }\n",
       "\n",
       "    .dataframe thead th {\n",
       "        text-align: right;\n",
       "    }\n",
       "</style>\n",
       "<table border=\"1\" class=\"dataframe\">\n",
       "  <thead>\n",
       "    <tr style=\"text-align: right;\">\n",
       "      <th></th>\n",
       "      <th>recipe_id</th>\n",
       "      <th>date</th>\n",
       "      <th>rating</th>\n",
       "      <th>review</th>\n",
       "    </tr>\n",
       "    <tr>\n",
       "      <th>user_id</th>\n",
       "      <th></th>\n",
       "      <th></th>\n",
       "      <th></th>\n",
       "      <th></th>\n",
       "    </tr>\n",
       "  </thead>\n",
       "  <tbody>\n",
       "    <tr>\n",
       "      <th>230860</th>\n",
       "      <td>158539</td>\n",
       "      <td>2006-03-06</td>\n",
       "      <td>5</td>\n",
       "      <td>I love this recipe!  It is so easy to make and...</td>\n",
       "    </tr>\n",
       "    <tr>\n",
       "      <th>282929</th>\n",
       "      <td>156242</td>\n",
       "      <td>2006-02-20</td>\n",
       "      <td>5</td>\n",
       "      <td>I was looking for another way to cook chicken ...</td>\n",
       "    </tr>\n",
       "    <tr>\n",
       "      <th>383346</th>\n",
       "      <td>368427</td>\n",
       "      <td>2009-09-24</td>\n",
       "      <td>5</td>\n",
       "      <td>I had a small spaghetti squash.  Maybe 2 pound...</td>\n",
       "    </tr>\n",
       "    <tr>\n",
       "      <th>242729</th>\n",
       "      <td>225794</td>\n",
       "      <td>2007-05-30</td>\n",
       "      <td>5</td>\n",
       "      <td>I was lucky enough to have some MILO that my g...</td>\n",
       "    </tr>\n",
       "    <tr>\n",
       "      <th>179133</th>\n",
       "      <td>168634</td>\n",
       "      <td>2012-12-18</td>\n",
       "      <td>5</td>\n",
       "      <td>I made this for Christmas for a co-worker who ...</td>\n",
       "    </tr>\n",
       "  </tbody>\n",
       "</table>\n",
       "</div>"
      ],
      "text/plain": [
       "         recipe_id        date  rating  \\\n",
       "user_id                                  \n",
       "230860      158539  2006-03-06       5   \n",
       "282929      156242  2006-02-20       5   \n",
       "383346      368427  2009-09-24       5   \n",
       "242729      225794  2007-05-30       5   \n",
       "179133      168634  2012-12-18       5   \n",
       "\n",
       "                                                    review  \n",
       "user_id                                                     \n",
       "230860   I love this recipe!  It is so easy to make and...  \n",
       "282929   I was looking for another way to cook chicken ...  \n",
       "383346   I had a small spaghetti squash.  Maybe 2 pound...  \n",
       "242729   I was lucky enough to have some MILO that my g...  \n",
       "179133   I made this for Christmas for a co-worker who ...  "
      ]
     },
     "execution_count": 10,
     "metadata": {},
     "output_type": "execute_result"
    }
   ],
   "source": [
    "#interactions  = pd.read_csv('RAW_interactions.csv',index_col=0)# read csv into ratings_df dataframe\n",
    "data=raw_interactions.sample(20000)\n",
    "data_df = pd.DataFrame(data)\n",
    "data_df.head()"
   ]
  },
  {
   "cell_type": "markdown",
   "metadata": {},
   "source": [
    "<h3> Data Preprocessing </h3>"
   ]
  },
  {
   "cell_type": "markdown",
   "metadata": {},
   "source": [
    "Preprocessing steps\n",
    "<ul>\n",
    "    <li>Stop words removal</li>\n",
    "    <li> Remove punctuations and HTML tags</li>\n",
    "    <li> Remove characters less than 2 characters </li>\n",
    "    <li> Remove digits </li>\n",
    "    <li> Remove dots between abbreviations (eg: U.S.A-> USA) </li>\n",
    "    <li> Lemmatization </li>\n",
    "</ul>"
   ]
  },
  {
   "cell_type": "code",
   "execution_count": 5,
   "metadata": {},
   "outputs": [],
   "source": [
    "eng_stopwords = set(stopwords.words(\"english\"))\n",
    "stop_words = stopwords.words('english')\n",
    "eng_stop_words=list(ENGLISH_STOP_WORDS)\n",
    "my_stop_words=['make','use','add','sugar','garlic','cup','half','eat',\n",
    "               'come','butter','this','them','look','minute','recipe','oil','pan','rice','you','salt']\n",
    "eng_stop_words.extend(my_stop_words)\n",
    "stopwords_dict = Counter(stop_words)\n",
    "lemmatizer = WordNetLemmatizer()\n",
    "\n",
    "def get_wordnet_pos(treebank_tag):\n",
    "\n",
    "    if treebank_tag.startswith('J'):\n",
    "        return wordnet.ADJ\n",
    "    elif treebank_tag.startswith('V'):\n",
    "        return wordnet.VERB\n",
    "    elif treebank_tag.startswith('N'):\n",
    "        return wordnet.NOUN\n",
    "    elif treebank_tag.startswith('R'):\n",
    "        return wordnet.ADV\n",
    "    else:\n",
    "        return wordnet.NOUN\n",
    "    \n",
    "def stop_word_rem_and_lemmatization(text):\n",
    "    lemm_text=[]\n",
    "    #stop_words_cleaned_text=[word for word in text.split() if word not in stopwords_dict]\n",
    "    \n",
    "    \n",
    "    for word,tag in pos_tag(text.lower().split()):\n",
    "        lemm_text.append(lemmatizer.lemmatize(word, get_wordnet_pos(tag)))\n",
    "    lemm_text=[word for word in lemm_text if word not in eng_stop_words]\n",
    "    return \" \".join(lemm_text)\n",
    "\n",
    "def spell_correct(text):\n",
    "    spell_correct_text=[TextBlob(word).correct() for word in text.split()]\n",
    "    return ' '.join(spell_correct_text)"
   ]
  },
  {
   "cell_type": "code",
   "execution_count": 6,
   "metadata": {},
   "outputs": [],
   "source": [
    "remove_digits = str.maketrans('', '', digits)\n",
    "\n",
    "def preprocessData(text):\n",
    "    #Text lemmatization and stop words removal\n",
    "    sentence=stop_word_rem_and_lemmatization(text)\n",
    "    #print(sentence)\n",
    "    \n",
    "    #sentence=spell_correct(sentence)\n",
    "    \n",
    "    #remove dots between abbreviations, U.S.A--> USA\n",
    "    sentence=re.sub('\\.(?!(\\S[^. ])|\\d)', '', sentence)\n",
    "    \n",
    "    #pad punctuations with spaces\n",
    "    sentence = re.sub('([.,!;\"?\\'~#()&/{}_<>:|\\-\\*$])', r' \\1 ', sentence)\n",
    "         \n",
    "    #remove all characters less than or equal to two characters\n",
    "    sentence=re.sub(r'\\b\\w{1,2}\\b', '', sentence)\n",
    "    \n",
    "    #remove all digits\n",
    "    #sentence = ''.join([i for i in sentence if not i.isdigit()])\n",
    "    sentence = sentence.translate(remove_digits)\n",
    "    \n",
    "    for ch in punctuation+'*()[]^@+=_/\\$%-.,':\n",
    "        sentence = sentence.replace(ch,'')\n",
    "    \n",
    "    #remove multiple whitespaces\n",
    "    sentence= re.sub(' +', ' ', sentence)\n",
    "    \n",
    "    #sentence=re.sub('[^A-Za-z0-9\\s]+', '', sentence)\n",
    "            \n",
    "    return sentence"
   ]
  },
  {
   "cell_type": "code",
   "execution_count": 13,
   "metadata": {},
   "outputs": [],
   "source": [
    "data_df[\"review_preprocessed\"] = data_df[\"review\"].apply(lambda x: preprocessData(str(x)))\n"
   ]
  },
  {
   "cell_type": "code",
   "execution_count": 14,
   "metadata": {},
   "outputs": [
    {
     "data": {
      "text/html": [
       "<div>\n",
       "<style scoped>\n",
       "    .dataframe tbody tr th:only-of-type {\n",
       "        vertical-align: middle;\n",
       "    }\n",
       "\n",
       "    .dataframe tbody tr th {\n",
       "        vertical-align: top;\n",
       "    }\n",
       "\n",
       "    .dataframe thead th {\n",
       "        text-align: right;\n",
       "    }\n",
       "</style>\n",
       "<table border=\"1\" class=\"dataframe\">\n",
       "  <thead>\n",
       "    <tr style=\"text-align: right;\">\n",
       "      <th></th>\n",
       "      <th>recipe_id</th>\n",
       "      <th>date</th>\n",
       "      <th>rating</th>\n",
       "      <th>review</th>\n",
       "      <th>review_preprocessed</th>\n",
       "    </tr>\n",
       "    <tr>\n",
       "      <th>user_id</th>\n",
       "      <th></th>\n",
       "      <th></th>\n",
       "      <th></th>\n",
       "      <th></th>\n",
       "      <th></th>\n",
       "    </tr>\n",
       "  </thead>\n",
       "  <tbody>\n",
       "    <tr>\n",
       "      <th>230860</th>\n",
       "      <td>158539</td>\n",
       "      <td>2006-03-06</td>\n",
       "      <td>5</td>\n",
       "      <td>I love this recipe!  It is so easy to make and...</td>\n",
       "      <td>love recipe easy absolutely delicious alicia</td>\n",
       "    </tr>\n",
       "    <tr>\n",
       "      <th>282929</th>\n",
       "      <td>156242</td>\n",
       "      <td>2006-02-20</td>\n",
       "      <td>5</td>\n",
       "      <td>I was looking for another way to cook chicken ...</td>\n",
       "      <td>way cook chicken liver easy recipe and ingredi...</td>\n",
       "    </tr>\n",
       "    <tr>\n",
       "      <th>383346</th>\n",
       "      <td>368427</td>\n",
       "      <td>2009-09-24</td>\n",
       "      <td>5</td>\n",
       "      <td>I had a small spaghetti squash.  Maybe 2 pound...</td>\n",
       "      <td>small spaghetti squash maybe pounds cook high ...</td>\n",
       "    </tr>\n",
       "    <tr>\n",
       "      <th>242729</th>\n",
       "      <td>225794</td>\n",
       "      <td>2007-05-30</td>\n",
       "      <td>5</td>\n",
       "      <td>I was lucky enough to have some MILO that my g...</td>\n",
       "      <td>lucky milo great swap partner chef flower send...</td>\n",
       "    </tr>\n",
       "    <tr>\n",
       "      <th>179133</th>\n",
       "      <td>168634</td>\n",
       "      <td>2012-12-18</td>\n",
       "      <td>5</td>\n",
       "      <td>I made this for Christmas for a co-worker who ...</td>\n",
       "      <td>christmas worker celiac easily rise beautifull...</td>\n",
       "    </tr>\n",
       "  </tbody>\n",
       "</table>\n",
       "</div>"
      ],
      "text/plain": [
       "         recipe_id        date  rating  \\\n",
       "user_id                                  \n",
       "230860      158539  2006-03-06       5   \n",
       "282929      156242  2006-02-20       5   \n",
       "383346      368427  2009-09-24       5   \n",
       "242729      225794  2007-05-30       5   \n",
       "179133      168634  2012-12-18       5   \n",
       "\n",
       "                                                    review  \\\n",
       "user_id                                                      \n",
       "230860   I love this recipe!  It is so easy to make and...   \n",
       "282929   I was looking for another way to cook chicken ...   \n",
       "383346   I had a small spaghetti squash.  Maybe 2 pound...   \n",
       "242729   I was lucky enough to have some MILO that my g...   \n",
       "179133   I made this for Christmas for a co-worker who ...   \n",
       "\n",
       "                                       review_preprocessed  \n",
       "user_id                                                     \n",
       "230860       love recipe easy absolutely delicious alicia   \n",
       "282929   way cook chicken liver easy recipe and ingredi...  \n",
       "383346   small spaghetti squash maybe pounds cook high ...  \n",
       "242729   lucky milo great swap partner chef flower send...  \n",
       "179133   christmas worker celiac easily rise beautifull...  "
      ]
     },
     "execution_count": 14,
     "metadata": {},
     "output_type": "execute_result"
    }
   ],
   "source": [
    "data_df.head()"
   ]
  },
  {
   "cell_type": "markdown",
   "metadata": {},
   "source": [
    "The below Bar chart was used to determine the top 70 words, and add few of the genric words such as 'recipe','oil','pan','rice', etc. to custom stop word set."
   ]
  },
  {
   "cell_type": "code",
   "execution_count": 15,
   "metadata": {},
   "outputs": [
    {
     "data": {
      "image/png": "[encoded data removed]",
      "text/plain": [
       "<Figure size 1008x432 with 1 Axes>"
      ]
     },
     "metadata": {},
     "output_type": "display_data"
    }
   ],
   "source": [
    "txt = pd.Series(' '.join(review for review in data_df.review_preprocessed).split())\n",
    "\n",
    "plt.style.use('ggplot')\n",
    "plt.figure(figsize=(14,6))\n",
    "freq=txt.value_counts()[:70]\n",
    "freq.plot(kind=\"bar\", color = \"red\")\n",
    "plt.title(\"70 most frequent words after preprocessing\",size=20)\n",
    "plt.show()"
   ]
  },
  {
   "cell_type": "markdown",
   "metadata": {},
   "source": [
    "<h3> Construct Training, Validation and Test sets </h3>\n",
    "Training/validation (rating_not_zero) set will be all reviews with non-zero ratings, and test set (rating_zero) will be ratings wih zero ratings"
   ]
  },
  {
   "cell_type": "code",
   "execution_count": 16,
   "metadata": {},
   "outputs": [
    {
     "data": {
      "text/plain": [
       "(18933, 5)"
      ]
     },
     "execution_count": 16,
     "metadata": {},
     "output_type": "execute_result"
    }
   ],
   "source": [
    "rating_not_zero=data_df[\"rating\"]!=0\n",
    "rating_not_zero=data_df[rating_not_zero]\n",
    "rating_not_zero.shape"
   ]
  },
  {
   "cell_type": "code",
   "execution_count": 17,
   "metadata": {},
   "outputs": [
    {
     "data": {
      "text/plain": [
       "(1067, 5)"
      ]
     },
     "execution_count": 17,
     "metadata": {},
     "output_type": "execute_result"
    }
   ],
   "source": [
    "rating_zero=data_df[\"rating\"]==0\n",
    "rating_zero=data_df[rating_zero]\n",
    "rating_zero.shape"
   ]
  },
  {
   "cell_type": "code",
   "execution_count": 18,
   "metadata": {},
   "outputs": [],
   "source": [
    "# data split \n",
    "from sklearn.model_selection import train_test_split \n",
    "xtrain, xvalidation, ytrain, yvalidation = train_test_split(rating_not_zero['review_preprocessed'], rating_not_zero['rating'], test_size = 0.3)\n",
    "\n"
   ]
  },
  {
   "cell_type": "markdown",
   "metadata": {},
   "source": [
    "<h3> Feature Selection </h3>"
   ]
  },
  {
   "cell_type": "markdown",
   "metadata": {},
   "source": [
    "We will use TF-IDF for feature selection."
   ]
  },
  {
   "cell_type": "code",
   "execution_count": 19,
   "metadata": {},
   "outputs": [],
   "source": [
    "\n",
    "\n",
    "# Convert text to numbers using (TF-IDF)\n",
    "from sklearn.feature_extraction.text import TfidfVectorizer  \n",
    "\n",
    "tf_vectorizer = TfidfVectorizer(norm = 'l2',min_df = 0, use_idf = True, smooth_idf = False, sublinear_tf = True,\n",
    "                             ngram_range=(1,3), max_features = 15000,token_pattern=r'\\b\\w+\\b',analyzer='word')\n",
    "\n",
    "# let's convert \n",
    "xtrain_tf = tf_vectorizer.fit_transform(xtrain).toarray()\n",
    "xvalidation_tf = tf_vectorizer.transform(xvalidation).toarray()\n",
    "\n"
   ]
  },
  {
   "cell_type": "markdown",
   "metadata": {},
   "source": [
    "<h3> Training the model </h3>"
   ]
  },
  {
   "cell_type": "markdown",
   "metadata": {},
   "source": [
    "<h5> 1. Naive Bayes </h5>"
   ]
  },
  {
   "cell_type": "code",
   "execution_count": 23,
   "metadata": {},
   "outputs": [
    {
     "name": "stdout",
     "output_type": "stream",
     "text": [
      "Fitting 15 folds for each of 4 candidates, totalling 60 fits\n"
     ]
    },
    {
     "data": {
      "text/plain": [
       "{'alpha': 0.1}"
      ]
     },
     "execution_count": 23,
     "metadata": {},
     "output_type": "execute_result"
    }
   ],
   "source": [
    "params_NB = {'alpha': [1.0,0.1,0.01,0.01]}\n",
    "cv_method = RepeatedStratifiedKFold(n_splits=5, \n",
    "                                    n_repeats=3, \n",
    "                                    random_state=999)\n",
    "gs_NB = GridSearchCV(estimator=MultinomialNB(), \n",
    "                     param_grid=params_NB, \n",
    "                     cv=cv_method,\n",
    "                     verbose=1, \n",
    "                     scoring='accuracy')\n",
    "gs_NB.fit(xtrain_tf,ytrain);\n",
    "gs_NB.best_params_"
   ]
  },
  {
   "cell_type": "code",
   "execution_count": 39,
   "metadata": {},
   "outputs": [
    {
     "name": "stdout",
     "output_type": "stream",
     "text": [
      "Accuracy:  76.69\n",
      "Precision:  75.06\n"
     ]
    }
   ],
   "source": [
    "nby = MultinomialNB(alpha=0.1,fit_prior=True, class_prior=None)\n",
    "nby.fit(xtrain_tf,ytrain)\n",
    "y_pred=nby.predict(xvalidation_tf)\n",
    "accuracy=round(accuracy_score(yvalidation, y_pred)*100,2)\n",
    "precision=round(precision_score(yvalidation, y_pred, average=\"macro\")*100,2)\n",
    "print(\"Accuracy: \",accuracy)\n",
    "print(\"Precision: \",precision)\n",
    "\n",
    "\n",
    "model_metrics=pd.DataFrame();\n",
    "model_metrics['Name']=[\"Naive Bayes\"]\n",
    "model_metrics['Accuracy']=[accuracy]\n",
    "model_metrics['Precision']=[precision]\n",
    "#model_metrics.loc[len(model_metrics.index)] = [\"Naive bayes\", accuracy, precision]\n"
   ]
  },
  {
   "cell_type": "markdown",
   "metadata": {},
   "source": [
    "<h5>2. Logistic Regression </h5>"
   ]
  },
  {
   "cell_type": "code",
   "execution_count": 49,
   "metadata": {},
   "outputs": [],
   "source": [
    "# LRparam_grid = {\n",
    "#     'C': [0.01, 0.1, 1, 10, 100, 1000],\n",
    "#     'penalty': ['l2'],\n",
    "#     'max_iter': [100],\n",
    "#     'solver': ['newton-cg', 'lbfgs']\n",
    "# }\n",
    "# gs_LR = GridSearchCV(estimator=LogisticRegression(), \n",
    "#                      param_grid=LRparam_grid, \n",
    "#                      cv=cv_method,\n",
    "#                      verbose=1, \n",
    "#                      scoring='accuracy')\n",
    "# gs_LR.fit(xtrain_tf,ytrain);\n",
    "# gs_LR.best_params_\n"
   ]
  },
  {
   "cell_type": "code",
   "execution_count": 38,
   "metadata": {},
   "outputs": [
    {
     "name": "stdout",
     "output_type": "stream",
     "text": [
      "Accuracy:  73.38\n",
      "Precision:  47.68\n"
     ]
    }
   ],
   "source": [
    "lr = LogisticRegression(C=1000,max_iter=100, penalty='l2', solver='newton-cg')\n",
    "lr.fit(xtrain_tf,ytrain)\n",
    "predictions_lr = lr.predict(xvalidation_tf)\n",
    "accuracy=round(accuracy_score(yvalidation, predictions_lr)*100,2)\n",
    "precision=round(precision_score(yvalidation, predictions_lr, average=\"macro\")*100,2)\n",
    "print(\"Accuracy: \",accuracy)\n",
    "print(\"Precision: \",precision)\n",
    "model_metrics.loc[len(model_metrics.index)] = [\"Logistic Regression\", accuracy, precision]"
   ]
  },
  {
   "cell_type": "markdown",
   "metadata": {},
   "source": [
    "<h5>3. KNN</h5>"
   ]
  },
  {
   "cell_type": "code",
   "execution_count": 36,
   "metadata": {},
   "outputs": [
    {
     "name": "stdout",
     "output_type": "stream",
     "text": [
      "KNN accuracy: 74.93\n",
      "KNN precision 42.02\n"
     ]
    }
   ],
   "source": [
    "# svm = svm.SVC(probability=True, kernel=\"sigmoid\",gamma=1,C=100)\n",
    "# svm.fit(xtrain_tf,ytrain)\n",
    "# predictions_svm = svm.predict(xvalidation_tf)\n",
    "# accuracy=round(accuracy_score(yvalidation, predictions_svm)*100,2)\n",
    "# precision=round(precision_score(yvalidation, predictions_svm, average=\"macro\")*100,2)\n",
    "# print(\"Accuracy of SVM is : :\",accuracy)\n",
    "# print(\"Precision of SVM is :\",precision)\n",
    "# model_metrics['Name']=[\"SVM\"]\n",
    "# model_metrics['Accuracy']=[accuracy]\n",
    "# model_metrics['Precision']=[precision]\n",
    "\n",
    "knn = KNeighborsClassifier(n_neighbors=10,algorithm='auto',metric='cosine')\n",
    "knn.fit(xtrain_tf,ytrain)\n",
    "predictions_knn = knn.predict(xvalidation_tf)\n",
    "accuracy=round(accuracy_score(yvalidation, predictions_knn)*100,2)\n",
    "precision=round(precision_score(yvalidation, predictions_knn, average=\"macro\")*100,2)\n",
    "print(\"KNN accuracy:\",accuracy)\n",
    "print(\"KNN precision\",precision)\n",
    "\n",
    "model_metrics.loc[len(model_metrics.index)] = ['KNN', accuracy, precision]"
   ]
  },
  {
   "cell_type": "markdown",
   "metadata": {},
   "source": [
    "<h5>4. Random Forest</h5>"
   ]
  },
  {
   "cell_type": "code",
   "execution_count": 32,
   "metadata": {},
   "outputs": [
    {
     "name": "stdout",
     "output_type": "stream",
     "text": [
      "Accuracy of Random forest is : : 75.56\n",
      "Precision of Random Forest is : 32.37\n"
     ]
    },
    {
     "name": "stderr",
     "output_type": "stream",
     "text": [
      "/opt/ohpc/pub/apps/python3/3.8.8/lib/python3.8/site-packages/sklearn/metrics/_classification.py:1327: UndefinedMetricWarning: Precision is ill-defined and being set to 0.0 in labels with no predicted samples. Use `zero_division` parameter to control this behavior.\n",
      "  _warn_prf(average, modifier, msg_start, len(result))\n"
     ]
    }
   ],
   "source": [
    "rf = RandomForestClassifier(n_estimators=100, max_depth=10, random_state=42,max_features=2000)\n",
    "rf.fit(xtrain_tf,ytrain)\n",
    "predictions_rf = rf.predict(xvalidation_tf)\n",
    "accuracy=round(accuracy_score(yvalidation, predictions_rf)*100,2)\n",
    "precision=round(precision_score(yvalidation, predictions_rf, average=\"macro\")*100,2)\n",
    "print(\"Accuracy of Random forest is : :\",accuracy)\n",
    "print(\"Precision of Random Forest is :\",precision)\n",
    "model_metrics['Name']=[\"Random Forest\"]\n",
    "model_metrics['Accuracy']=[accuracy]\n",
    "model_metrics['Precision']=[precision]"
   ]
  },
  {
   "cell_type": "code",
   "execution_count": 40,
   "metadata": {},
   "outputs": [
    {
     "data": {
      "text/html": [
       "<div>\n",
       "<style scoped>\n",
       "    .dataframe tbody tr th:only-of-type {\n",
       "        vertical-align: middle;\n",
       "    }\n",
       "\n",
       "    .dataframe tbody tr th {\n",
       "        vertical-align: top;\n",
       "    }\n",
       "\n",
       "    .dataframe thead th {\n",
       "        text-align: right;\n",
       "    }\n",
       "</style>\n",
       "<table border=\"1\" class=\"dataframe\">\n",
       "  <thead>\n",
       "    <tr style=\"text-align: right;\">\n",
       "      <th></th>\n",
       "      <th>Name</th>\n",
       "      <th>Accuracy</th>\n",
       "      <th>Precision</th>\n",
       "    </tr>\n",
       "  </thead>\n",
       "  <tbody>\n",
       "    <tr>\n",
       "      <th>0</th>\n",
       "      <td>Random Forest</td>\n",
       "      <td>75.56</td>\n",
       "      <td>32.37</td>\n",
       "    </tr>\n",
       "    <tr>\n",
       "      <th>1</th>\n",
       "      <td>KNN</td>\n",
       "      <td>74.93</td>\n",
       "      <td>42.02</td>\n",
       "    </tr>\n",
       "    <tr>\n",
       "      <th>2</th>\n",
       "      <td>Logistic Regression</td>\n",
       "      <td>73.38</td>\n",
       "      <td>47.68</td>\n",
       "    </tr>\n",
       "    <tr>\n",
       "      <th>3</th>\n",
       "      <td>Naive bayes</td>\n",
       "      <td>76.69</td>\n",
       "      <td>75.06</td>\n",
       "    </tr>\n",
       "  </tbody>\n",
       "</table>\n",
       "</div>"
      ],
      "text/plain": [
       "                  Name  Accuracy  Precision\n",
       "0        Random Forest     75.56      32.37\n",
       "1                  KNN     74.93      42.02\n",
       "2  Logistic Regression     73.38      47.68\n",
       "3          Naive bayes     76.69      75.06"
      ]
     },
     "execution_count": 40,
     "metadata": {},
     "output_type": "execute_result"
    }
   ],
   "source": [
    "model_metrics"
   ]
  },
  {
   "cell_type": "markdown",
   "metadata": {},
   "source": [
    "<b> Naive bayes is the model with accuracy</b> We will use it to train the complete dataset and make predictions based on it"
   ]
  },
  {
   "cell_type": "markdown",
   "metadata": {},
   "source": [
    "<h3> Train complete dataset with Naive Bayes</h3>"
   ]
  },
  {
   "cell_type": "code",
   "execution_count": 43,
   "metadata": {},
   "outputs": [],
   "source": [
    "complete_data= raw_interactions\n",
    "complete_data[\"review_preprocessed\"] = complete_traindata[\"review\"].apply(lambda x: preprocessData(str(x)))"
   ]
  },
  {
   "cell_type": "code",
   "execution_count": 8,
   "metadata": {},
   "outputs": [
    {
     "data": {
      "text/html": [
       "<div>\n",
       "<style scoped>\n",
       "    .dataframe tbody tr th:only-of-type {\n",
       "        vertical-align: middle;\n",
       "    }\n",
       "\n",
       "    .dataframe tbody tr th {\n",
       "        vertical-align: top;\n",
       "    }\n",
       "\n",
       "    .dataframe thead th {\n",
       "        text-align: right;\n",
       "    }\n",
       "</style>\n",
       "<table border=\"1\" class=\"dataframe\">\n",
       "  <thead>\n",
       "    <tr style=\"text-align: right;\">\n",
       "      <th></th>\n",
       "      <th>recipe_id</th>\n",
       "      <th>date</th>\n",
       "      <th>rating</th>\n",
       "      <th>review</th>\n",
       "      <th>review_preprocessed</th>\n",
       "    </tr>\n",
       "    <tr>\n",
       "      <th>user_id</th>\n",
       "      <th></th>\n",
       "      <th></th>\n",
       "      <th></th>\n",
       "      <th></th>\n",
       "      <th></th>\n",
       "    </tr>\n",
       "  </thead>\n",
       "  <tbody>\n",
       "    <tr>\n",
       "      <th>38094</th>\n",
       "      <td>40893</td>\n",
       "      <td>2003-02-17</td>\n",
       "      <td>4</td>\n",
       "      <td>Great with a salad. Cooked on top of stove for...</td>\n",
       "      <td>great salad cook stove minutes added shake cay...</td>\n",
       "    </tr>\n",
       "    <tr>\n",
       "      <th>1293707</th>\n",
       "      <td>40893</td>\n",
       "      <td>2011-12-21</td>\n",
       "      <td>5</td>\n",
       "      <td>So simple, so delicious! Great for chilly fall...</td>\n",
       "      <td>simple delicious great chilly fall evening dou...</td>\n",
       "    </tr>\n",
       "    <tr>\n",
       "      <th>8937</th>\n",
       "      <td>44394</td>\n",
       "      <td>2002-12-01</td>\n",
       "      <td>4</td>\n",
       "      <td>This worked very well and is EASY.  I used not...</td>\n",
       "      <td>work easy quite package oz white chips great</td>\n",
       "    </tr>\n",
       "    <tr>\n",
       "      <th>126440</th>\n",
       "      <td>85009</td>\n",
       "      <td>2010-02-27</td>\n",
       "      <td>5</td>\n",
       "      <td>I made the Mexican topping and took it to bunk...</td>\n",
       "      <td>mexican topping bunko love</td>\n",
       "    </tr>\n",
       "    <tr>\n",
       "      <th>57222</th>\n",
       "      <td>85009</td>\n",
       "      <td>2011-10-01</td>\n",
       "      <td>5</td>\n",
       "      <td>Made the cheddar bacon topping, adding a sprin...</td>\n",
       "      <td>cheddar bacon topping sprinkling black pepper ...</td>\n",
       "    </tr>\n",
       "  </tbody>\n",
       "</table>\n",
       "</div>"
      ],
      "text/plain": [
       "         recipe_id        date  rating  \\\n",
       "user_id                                  \n",
       "38094        40893  2003-02-17       4   \n",
       "1293707      40893  2011-12-21       5   \n",
       "8937         44394  2002-12-01       4   \n",
       "126440       85009  2010-02-27       5   \n",
       "57222        85009  2011-10-01       5   \n",
       "\n",
       "                                                    review  \\\n",
       "user_id                                                      \n",
       "38094    Great with a salad. Cooked on top of stove for...   \n",
       "1293707  So simple, so delicious! Great for chilly fall...   \n",
       "8937     This worked very well and is EASY.  I used not...   \n",
       "126440   I made the Mexican topping and took it to bunk...   \n",
       "57222    Made the cheddar bacon topping, adding a sprin...   \n",
       "\n",
       "                                       review_preprocessed  \n",
       "user_id                                                     \n",
       "38094    great salad cook stove minutes added shake cay...  \n",
       "1293707  simple delicious great chilly fall evening dou...  \n",
       "8937         work easy quite package oz white chips great   \n",
       "126440                         mexican topping bunko love   \n",
       "57222    cheddar bacon topping sprinkling black pepper ...  "
      ]
     },
     "execution_count": 8,
     "metadata": {},
     "output_type": "execute_result"
    }
   ],
   "source": [
    "complete_data=pd.read_csv('raw_interactions_preprocessed.csv',index_col=0)\n",
    "complete_data.head()"
   ]
  },
  {
   "cell_type": "code",
   "execution_count": 13,
   "metadata": {},
   "outputs": [],
   "source": [
    "rating_not_zero=complete_data[\"rating\"]!=0\n",
    "complete_trainset=complete_data[rating_not_zero]\n",
    "ytrain_comp=complete_trainset['rating'].values.astype('U')\n",
    "complete_trainset=complete_trainset['review_preprocessed'].values.astype('U')\n",
    "\n",
    "rating_zero=complete_data[\"rating\"]==0\n",
    "complete_testset=complete_data[rating_zero]\n",
    "ytest_comp=complete_testset['rating'].values.astype('U')\n",
    "x_test= complete_testset['review_preprocessed'].values.astype('U')"
   ]
  },
  {
   "cell_type": "code",
   "execution_count": 14,
   "metadata": {},
   "outputs": [],
   "source": [
    "#complete_data.to_csv(\"raw_interactions_preprocessed.csv\")"
   ]
  },
  {
   "cell_type": "code",
   "execution_count": 15,
   "metadata": {},
   "outputs": [],
   "source": [
    "tf_vectorizer = TfidfVectorizer(norm = 'l2',min_df = 0, use_idf = True, smooth_idf = False, sublinear_tf = True,\n",
    "                             ngram_range=(1,3), max_features = 15000,token_pattern=r'\\b\\w+\\b',analyzer='word')\n",
    "\n",
    "# let's convert \n",
    "xtrain_comp = tf_vectorizer.fit_transform(complete_trainset).toarray()\n",
    "xtest_comp = tf_vectorizer.transform(x_test).toarray()"
   ]
  },
  {
   "cell_type": "code",
   "execution_count": 17,
   "metadata": {},
   "outputs": [],
   "source": [
    "nby = MultinomialNB(alpha=0.1,fit_prior=True, class_prior=None)\n",
    "nby.fit(xtrain_comp,ytrain_comp)\n",
    "predictions=nby.predict(xtest_comp)\n",
    "#accuracy=round(accuracy_score(yvalidation, y_pred)*100,2)\n",
    "#precision=round(precision_score(yvalidation, y_pred, average=\"macro\")*100,2)\n",
    "#print(\"Accuracy: \",accuracy)\n",
    "#print(\"Precision: \",precision)"
   ]
  },
  {
   "cell_type": "markdown",
   "metadata": {},
   "source": [
    "<h3> Predict using the model </h5>"
   ]
  },
  {
   "cell_type": "code",
   "execution_count": 18,
   "metadata": {},
   "outputs": [],
   "source": [
    "complete_testset.insert(4,'without_0_rating',predictions.tolist())"
   ]
  },
  {
   "cell_type": "code",
   "execution_count": 19,
   "metadata": {},
   "outputs": [
    {
     "data": {
      "text/html": [
       "<div>\n",
       "<style scoped>\n",
       "    .dataframe tbody tr th:only-of-type {\n",
       "        vertical-align: middle;\n",
       "    }\n",
       "\n",
       "    .dataframe tbody tr th {\n",
       "        vertical-align: top;\n",
       "    }\n",
       "\n",
       "    .dataframe thead th {\n",
       "        text-align: right;\n",
       "    }\n",
       "</style>\n",
       "<table border=\"1\" class=\"dataframe\">\n",
       "  <thead>\n",
       "    <tr style=\"text-align: right;\">\n",
       "      <th></th>\n",
       "      <th>recipe_id</th>\n",
       "      <th>date</th>\n",
       "      <th>rating</th>\n",
       "      <th>review</th>\n",
       "      <th>without_0_rating</th>\n",
       "      <th>review_preprocessed</th>\n",
       "    </tr>\n",
       "    <tr>\n",
       "      <th>user_id</th>\n",
       "      <th></th>\n",
       "      <th></th>\n",
       "      <th></th>\n",
       "      <th></th>\n",
       "      <th></th>\n",
       "      <th></th>\n",
       "    </tr>\n",
       "  </thead>\n",
       "  <tbody>\n",
       "    <tr>\n",
       "      <th>124416</th>\n",
       "      <td>120345</td>\n",
       "      <td>2011-08-06</td>\n",
       "      <td>0</td>\n",
       "      <td>Just an observation, so I will not rate.  I fo...</td>\n",
       "      <td>5</td>\n",
       "      <td>just observation rate follow procedure strawbe...</td>\n",
       "    </tr>\n",
       "    <tr>\n",
       "      <th>468945</th>\n",
       "      <td>134728</td>\n",
       "      <td>2008-02-20</td>\n",
       "      <td>0</td>\n",
       "      <td>Made my own buttermilk w/ vinegar and milk.  U...</td>\n",
       "      <td>5</td>\n",
       "      <td>buttermilk vinegar milk defrost fresh skinless...</td>\n",
       "    </tr>\n",
       "    <tr>\n",
       "      <th>681408</th>\n",
       "      <td>225241</td>\n",
       "      <td>2008-03-14</td>\n",
       "      <td>0</td>\n",
       "      <td>This is a very good recipe.  We also want to c...</td>\n",
       "      <td>5</td>\n",
       "      <td>good recipe want cut fat content diet tasty dish</td>\n",
       "    </tr>\n",
       "    <tr>\n",
       "      <th>2002068522</th>\n",
       "      <td>29093</td>\n",
       "      <td>2018-03-26</td>\n",
       "      <td>0</td>\n",
       "      <td>i made it and it was amazing</td>\n",
       "      <td>5</td>\n",
       "      <td>amaze</td>\n",
       "    </tr>\n",
       "    <tr>\n",
       "      <th>980899</th>\n",
       "      <td>79222</td>\n",
       "      <td>2010-10-18</td>\n",
       "      <td>0</td>\n",
       "      <td>I used half cream and half 1% milk, added anot...</td>\n",
       "      <td>5</td>\n",
       "      <td>cream milk cream end nutmeg nearly pkg bacon c...</td>\n",
       "    </tr>\n",
       "  </tbody>\n",
       "</table>\n",
       "</div>"
      ],
      "text/plain": [
       "            recipe_id        date  rating  \\\n",
       "user_id                                     \n",
       "124416         120345  2011-08-06       0   \n",
       "468945         134728  2008-02-20       0   \n",
       "681408         225241  2008-03-14       0   \n",
       "2002068522      29093  2018-03-26       0   \n",
       "980899          79222  2010-10-18       0   \n",
       "\n",
       "                                                       review  \\\n",
       "user_id                                                         \n",
       "124416      Just an observation, so I will not rate.  I fo...   \n",
       "468945      Made my own buttermilk w/ vinegar and milk.  U...   \n",
       "681408      This is a very good recipe.  We also want to c...   \n",
       "2002068522                       i made it and it was amazing   \n",
       "980899      I used half cream and half 1% milk, added anot...   \n",
       "\n",
       "           without_0_rating                                review_preprocessed  \n",
       "user_id                                                                         \n",
       "124416                    5  just observation rate follow procedure strawbe...  \n",
       "468945                    5  buttermilk vinegar milk defrost fresh skinless...  \n",
       "681408                    5  good recipe want cut fat content diet tasty dish   \n",
       "2002068522                5                                              amaze  \n",
       "980899                    5  cream milk cream end nutmeg nearly pkg bacon c...  "
      ]
     },
     "execution_count": 19,
     "metadata": {},
     "output_type": "execute_result"
    }
   ],
   "source": [
    "complete_testset.head()"
   ]
  },
  {
   "cell_type": "code",
   "execution_count": 20,
   "metadata": {},
   "outputs": [],
   "source": [
    "predictions_df = complete_testset.filter(['user_id','recipe_id','without_0_rating'], axis=1)"
   ]
  },
  {
   "cell_type": "code",
   "execution_count": 21,
   "metadata": {},
   "outputs": [
    {
     "data": {
      "text/html": [
       "<div>\n",
       "<style scoped>\n",
       "    .dataframe tbody tr th:only-of-type {\n",
       "        vertical-align: middle;\n",
       "    }\n",
       "\n",
       "    .dataframe tbody tr th {\n",
       "        vertical-align: top;\n",
       "    }\n",
       "\n",
       "    .dataframe thead th {\n",
       "        text-align: right;\n",
       "    }\n",
       "</style>\n",
       "<table border=\"1\" class=\"dataframe\">\n",
       "  <thead>\n",
       "    <tr style=\"text-align: right;\">\n",
       "      <th></th>\n",
       "      <th>recipe_id</th>\n",
       "      <th>without_0_rating</th>\n",
       "    </tr>\n",
       "    <tr>\n",
       "      <th>user_id</th>\n",
       "      <th></th>\n",
       "      <th></th>\n",
       "    </tr>\n",
       "  </thead>\n",
       "  <tbody>\n",
       "    <tr>\n",
       "      <th>124416</th>\n",
       "      <td>120345</td>\n",
       "      <td>5</td>\n",
       "    </tr>\n",
       "    <tr>\n",
       "      <th>468945</th>\n",
       "      <td>134728</td>\n",
       "      <td>5</td>\n",
       "    </tr>\n",
       "    <tr>\n",
       "      <th>681408</th>\n",
       "      <td>225241</td>\n",
       "      <td>5</td>\n",
       "    </tr>\n",
       "    <tr>\n",
       "      <th>2002068522</th>\n",
       "      <td>29093</td>\n",
       "      <td>5</td>\n",
       "    </tr>\n",
       "    <tr>\n",
       "      <th>980899</th>\n",
       "      <td>79222</td>\n",
       "      <td>5</td>\n",
       "    </tr>\n",
       "  </tbody>\n",
       "</table>\n",
       "</div>"
      ],
      "text/plain": [
       "            recipe_id without_0_rating\n",
       "user_id                               \n",
       "124416         120345                5\n",
       "468945         134728                5\n",
       "681408         225241                5\n",
       "2002068522      29093                5\n",
       "980899          79222                5"
      ]
     },
     "execution_count": 21,
     "metadata": {},
     "output_type": "execute_result"
    }
   ],
   "source": [
    "predictions_df.head()"
   ]
  },
  {
   "cell_type": "code",
   "execution_count": 22,
   "metadata": {},
   "outputs": [],
   "source": [
    "merged_df=  pd.merge(interactions_train, predictions_df,  how='left', left_on=['user_id','recipe_id'], right_on = ['user_id','recipe_id'])"
   ]
  },
  {
   "cell_type": "code",
   "execution_count": 23,
   "metadata": {},
   "outputs": [],
   "source": [
    "merged_df['without_0_rating']=merged_df['without_0_rating'].fillna(merged_df['rating'])"
   ]
  },
  {
   "cell_type": "code",
   "execution_count": 24,
   "metadata": {},
   "outputs": [
    {
     "data": {
      "text/html": [
       "<div>\n",
       "<style scoped>\n",
       "    .dataframe tbody tr th:only-of-type {\n",
       "        vertical-align: middle;\n",
       "    }\n",
       "\n",
       "    .dataframe tbody tr th {\n",
       "        vertical-align: top;\n",
       "    }\n",
       "\n",
       "    .dataframe thead th {\n",
       "        text-align: right;\n",
       "    }\n",
       "</style>\n",
       "<table border=\"1\" class=\"dataframe\">\n",
       "  <thead>\n",
       "    <tr style=\"text-align: right;\">\n",
       "      <th></th>\n",
       "      <th>recipe_id</th>\n",
       "      <th>date</th>\n",
       "      <th>rating</th>\n",
       "      <th>u</th>\n",
       "      <th>i</th>\n",
       "      <th>without_0_rating</th>\n",
       "    </tr>\n",
       "    <tr>\n",
       "      <th>user_id</th>\n",
       "      <th></th>\n",
       "      <th></th>\n",
       "      <th></th>\n",
       "      <th></th>\n",
       "      <th></th>\n",
       "      <th></th>\n",
       "    </tr>\n",
       "  </thead>\n",
       "  <tbody>\n",
       "    <tr>\n",
       "      <th>2046</th>\n",
       "      <td>4684</td>\n",
       "      <td>2000-02-25</td>\n",
       "      <td>5.0</td>\n",
       "      <td>22095</td>\n",
       "      <td>44367</td>\n",
       "      <td>5.0</td>\n",
       "    </tr>\n",
       "    <tr>\n",
       "      <th>2046</th>\n",
       "      <td>517</td>\n",
       "      <td>2000-02-25</td>\n",
       "      <td>5.0</td>\n",
       "      <td>22095</td>\n",
       "      <td>87844</td>\n",
       "      <td>5.0</td>\n",
       "    </tr>\n",
       "    <tr>\n",
       "      <th>1773</th>\n",
       "      <td>7435</td>\n",
       "      <td>2000-03-13</td>\n",
       "      <td>5.0</td>\n",
       "      <td>24732</td>\n",
       "      <td>138181</td>\n",
       "      <td>5.0</td>\n",
       "    </tr>\n",
       "    <tr>\n",
       "      <th>1773</th>\n",
       "      <td>278</td>\n",
       "      <td>2000-03-13</td>\n",
       "      <td>4.0</td>\n",
       "      <td>24732</td>\n",
       "      <td>93054</td>\n",
       "      <td>4.0</td>\n",
       "    </tr>\n",
       "    <tr>\n",
       "      <th>2046</th>\n",
       "      <td>3431</td>\n",
       "      <td>2000-04-07</td>\n",
       "      <td>5.0</td>\n",
       "      <td>22095</td>\n",
       "      <td>101723</td>\n",
       "      <td>5.0</td>\n",
       "    </tr>\n",
       "  </tbody>\n",
       "</table>\n",
       "</div>"
      ],
      "text/plain": [
       "         recipe_id        date  rating      u       i without_0_rating\n",
       "user_id                                                               \n",
       "2046          4684  2000-02-25     5.0  22095   44367              5.0\n",
       "2046           517  2000-02-25     5.0  22095   87844              5.0\n",
       "1773          7435  2000-03-13     5.0  24732  138181              5.0\n",
       "1773           278  2000-03-13     4.0  24732   93054              4.0\n",
       "2046          3431  2000-04-07     5.0  22095  101723              5.0"
      ]
     },
     "execution_count": 24,
     "metadata": {},
     "output_type": "execute_result"
    }
   ],
   "source": [
    "merged_df.head()"
   ]
  },
  {
   "cell_type": "code",
   "execution_count": 25,
   "metadata": {},
   "outputs": [
    {
     "data": {
      "text/plain": [
       "5.0    518568\n",
       "4.0    127402\n",
       "3.0     25781\n",
       "5       14942\n",
       "2.0      6852\n",
       "1.0      3341\n",
       "4         876\n",
       "3         649\n",
       "1         320\n",
       "2         170\n",
       "Name: without_0_rating, dtype: int64"
      ]
     },
     "execution_count": 25,
     "metadata": {},
     "output_type": "execute_result"
    }
   ],
   "source": [
    "merged_df['without_0_rating'].value_counts()"
   ]
  },
  {
   "cell_type": "code",
   "execution_count": 26,
   "metadata": {},
   "outputs": [],
   "source": [
    "merged_df.to_csv(\"interactions_train_new.csv\", index=True)"
   ]
  },
  {
   "cell_type": "code",
   "execution_count": 27,
   "metadata": {},
   "outputs": [],
   "source": [
    "merged_df_test=  pd.merge(interactions_test, predictions_df,  how='left', left_on=['user_id','recipe_id'], right_on = ['user_id','recipe_id'])\n",
    "merged_df_test['without_0_rating']=merged_df_test['without_0_rating'].fillna(merged_df_test['rating'])"
   ]
  },
  {
   "cell_type": "code",
   "execution_count": 28,
   "metadata": {},
   "outputs": [],
   "source": [
    "merged_df_test.to_csv(\"interactions_test_new.csv\", index=True)"
   ]
  },
  {
   "cell_type": "code",
   "execution_count": null,
   "metadata": {},
   "outputs": [],
   "source": []
  },
  {
   "cell_type": "code",
   "execution_count": null,
   "metadata": {},
   "outputs": [],
   "source": []
  }
 ],
 "metadata": {
  "kernelspec": {
   "display_name": "Python 3 (ipykernel)",
   "language": "python",
   "name": "python3"
  },
  "language_info": {
   "codemirror_mode": {
    "name": "ipython",
    "version": 3
   },
   "file_extension": ".py",
   "mimetype": "text/x-python",
   "name": "python",
   "nbconvert_exporter": "python",
   "pygments_lexer": "ipython3",
   "version": "3.8.8"
  }
 },
 "nbformat": 4,
 "nbformat_minor": 2
}
